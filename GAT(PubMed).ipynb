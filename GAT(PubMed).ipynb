{
  "nbformat": 4,
  "nbformat_minor": 0,
  "metadata": {
    "colab": {
      "name": "GAT(PubMed).ipynb",
      "provenance": [],
      "mount_file_id": "1BwijncZl7M4b2RSVmkhmYR_8QQGPKvEP",
      "authorship_tag": "ABX9TyPIGzuI6dp6dWQuKN0VVRyc",
      "include_colab_link": true
    },
    "kernelspec": {
      "name": "python3",
      "display_name": "Python 3"
    },
    "language_info": {
      "name": "python"
    },
    "accelerator": "GPU"
  },
  "cells": [
    {
      "cell_type": "markdown",
      "metadata": {
        "id": "view-in-github",
        "colab_type": "text"
      },
      "source": [
        "<a href=\"https://colab.research.google.com/github/mamoonmasud/graph_community/blob/main/GAT(PubMed).ipynb\" target=\"_parent\"><img src=\"https://colab.research.google.com/assets/colab-badge.svg\" alt=\"Open In Colab\"/></a>"
      ]
    },
    {
      "cell_type": "code",
      "metadata": {
        "id": "HgfRQ7XKYxWi"
      },
      "source": [
        "import torch"
      ],
      "execution_count": 1,
      "outputs": []
    },
    {
      "cell_type": "code",
      "metadata": {
        "id": "5QD2djm6Yy9x",
        "colab": {
          "base_uri": "https://localhost:8080/"
        },
        "outputId": "677c3406-861d-4a88-e493-89f7808b0bb6"
      },
      "source": [
        "#Checking if cuda is available. If return False, change runtime to GPU\n",
        "print(torch.cuda.is_available())"
      ],
      "execution_count": 2,
      "outputs": [
        {
          "output_type": "stream",
          "name": "stdout",
          "text": [
            "True\n"
          ]
        }
      ]
    },
    {
      "cell_type": "code",
      "metadata": {
        "colab": {
          "base_uri": "https://localhost:8080/"
        },
        "id": "ejET8LdpY3Us",
        "outputId": "cd28bc76-de08-46a9-b190-4dbd08c46f62"
      },
      "source": [
        "print(torch.version.cuda)"
      ],
      "execution_count": 3,
      "outputs": [
        {
          "output_type": "stream",
          "name": "stdout",
          "text": [
            "11.1\n"
          ]
        }
      ]
    },
    {
      "cell_type": "code",
      "metadata": {
        "colab": {
          "base_uri": "https://localhost:8080/"
        },
        "id": "qk_iEi34ZGvW",
        "outputId": "aa0ebdba-7ae1-418e-f0fc-8f63977ce60f"
      },
      "source": [
        "#Checking Python Version\n",
        "! python --version"
      ],
      "execution_count": 4,
      "outputs": [
        {
          "output_type": "stream",
          "name": "stdout",
          "text": [
            "Python 3.7.12\n"
          ]
        }
      ]
    },
    {
      "cell_type": "code",
      "metadata": {
        "colab": {
          "base_uri": "https://localhost:8080/"
        },
        "id": "mHf3OIxMZYuF",
        "outputId": "1192c991-a7c9-4a41-b5ff-6cae07704af7"
      },
      "source": [
        "# Installing DGL\n",
        "! pip install dgl-cu111 -f https://data.dgl.ai/wheels/repo.html "
      ],
      "execution_count": 5,
      "outputs": [
        {
          "output_type": "stream",
          "name": "stdout",
          "text": [
            "Looking in links: https://data.dgl.ai/wheels/repo.html\n",
            "Collecting dgl-cu111\n",
            "  Downloading https://data.dgl.ai/wheels/dgl_cu111-0.7.2-cp37-cp37m-manylinux1_x86_64.whl (165.0 MB)\n",
            "\u001b[K     |████████████████████████████████| 165.0 MB 39 kB/s \n",
            "\u001b[?25hRequirement already satisfied: networkx>=2.1 in /usr/local/lib/python3.7/dist-packages (from dgl-cu111) (2.6.3)\n",
            "Requirement already satisfied: numpy>=1.14.0 in /usr/local/lib/python3.7/dist-packages (from dgl-cu111) (1.19.5)\n",
            "Requirement already satisfied: scipy>=1.1.0 in /usr/local/lib/python3.7/dist-packages (from dgl-cu111) (1.4.1)\n",
            "Requirement already satisfied: requests>=2.19.0 in /usr/local/lib/python3.7/dist-packages (from dgl-cu111) (2.23.0)\n",
            "Requirement already satisfied: certifi>=2017.4.17 in /usr/local/lib/python3.7/dist-packages (from requests>=2.19.0->dgl-cu111) (2021.10.8)\n",
            "Requirement already satisfied: idna<3,>=2.5 in /usr/local/lib/python3.7/dist-packages (from requests>=2.19.0->dgl-cu111) (2.10)\n",
            "Requirement already satisfied: urllib3!=1.25.0,!=1.25.1,<1.26,>=1.21.1 in /usr/local/lib/python3.7/dist-packages (from requests>=2.19.0->dgl-cu111) (1.24.3)\n",
            "Requirement already satisfied: chardet<4,>=3.0.2 in /usr/local/lib/python3.7/dist-packages (from requests>=2.19.0->dgl-cu111) (3.0.4)\n",
            "Installing collected packages: dgl-cu111\n",
            "Successfully installed dgl-cu111-0.7.2\n"
          ]
        }
      ]
    },
    {
      "cell_type": "code",
      "metadata": {
        "id": "VeQwSStNzPCK"
      },
      "source": [
        ""
      ],
      "execution_count": 5,
      "outputs": []
    },
    {
      "cell_type": "code",
      "metadata": {
        "id": "2OzXVYfndvZP"
      },
      "source": [
        "from google.colab import files"
      ],
      "execution_count": 6,
      "outputs": []
    },
    {
      "cell_type": "code",
      "metadata": {
        "id": "H-E1uJeYZ0r5",
        "colab": {
          "base_uri": "https://localhost:8080/"
        },
        "outputId": "8c7aefa9-e6e1-4055-9dd3-c5139a02074c"
      },
      "source": [
        "# Doing all the imports:\n",
        "import dgl\n",
        "import dgl.function as fn\n",
        "import torch as th\n",
        "import torch.nn as nn\n",
        "import torch.nn.functional as F\n",
        "from dgl import DGLGraph\n",
        "from scipy import sparse as sp\n",
        "from math import log\n",
        "import pandas as pd\n",
        "from sklearn import metrics as skmetrics\n",
        "import pickle\n",
        "import numpy as np\n",
        "\n",
        "import itertools"
      ],
      "execution_count": 7,
      "outputs": [
        {
          "output_type": "stream",
          "name": "stdout",
          "text": [
            "Setting the default backend to \"pytorch\". You can change it in the ~/.dgl/config.json file or export the DGLBACKEND environment variable.  Valid options are: pytorch, mxnet, tensorflow (all lowercase)\n"
          ]
        },
        {
          "output_type": "stream",
          "name": "stderr",
          "text": [
            "DGL backend not selected or invalid.  Assuming PyTorch for now.\n",
            "Using backend: pytorch\n"
          ]
        }
      ]
    },
    {
      "cell_type": "code",
      "metadata": {
        "id": "QpR5PsmktzCc"
      },
      "source": [
        "#from dgl.nn.pytorch.conv import GATConv as GAT"
      ],
      "execution_count": 8,
      "outputs": []
    },
    {
      "cell_type": "code",
      "metadata": {
        "id": "RWCs4nFmspN9"
      },
      "source": [
        ""
      ],
      "execution_count": 8,
      "outputs": []
    },
    {
      "cell_type": "code",
      "metadata": {
        "id": "x_uXoCpDy_xC"
      },
      "source": [
        "def upload_files():\n",
        "  from google.colab import files\n",
        "  uploaded = files.upload()\n",
        "  for k, v in uploaded.items():\n",
        "    open(k, 'wb').write(v)\n",
        "  return list(uploaded.keys())"
      ],
      "execution_count": 9,
      "outputs": []
    },
    {
      "cell_type": "code",
      "metadata": {
        "colab": {
          "resources": {
            "http://localhost:8080/nbextensions/google.colab/files.js": {
              "data": "Ly8gQ29weXJpZ2h0IDIwMTcgR29vZ2xlIExMQwovLwovLyBMaWNlbnNlZCB1bmRlciB0aGUgQXBhY2hlIExpY2Vuc2UsIFZlcnNpb24gMi4wICh0aGUgIkxpY2Vuc2UiKTsKLy8geW91IG1heSBub3QgdXNlIHRoaXMgZmlsZSBleGNlcHQgaW4gY29tcGxpYW5jZSB3aXRoIHRoZSBMaWNlbnNlLgovLyBZb3UgbWF5IG9idGFpbiBhIGNvcHkgb2YgdGhlIExpY2Vuc2UgYXQKLy8KLy8gICAgICBodHRwOi8vd3d3LmFwYWNoZS5vcmcvbGljZW5zZXMvTElDRU5TRS0yLjAKLy8KLy8gVW5sZXNzIHJlcXVpcmVkIGJ5IGFwcGxpY2FibGUgbGF3IG9yIGFncmVlZCB0byBpbiB3cml0aW5nLCBzb2Z0d2FyZQovLyBkaXN0cmlidXRlZCB1bmRlciB0aGUgTGljZW5zZSBpcyBkaXN0cmlidXRlZCBvbiBhbiAiQVMgSVMiIEJBU0lTLAovLyBXSVRIT1VUIFdBUlJBTlRJRVMgT1IgQ09ORElUSU9OUyBPRiBBTlkgS0lORCwgZWl0aGVyIGV4cHJlc3Mgb3IgaW1wbGllZC4KLy8gU2VlIHRoZSBMaWNlbnNlIGZvciB0aGUgc3BlY2lmaWMgbGFuZ3VhZ2UgZ292ZXJuaW5nIHBlcm1pc3Npb25zIGFuZAovLyBsaW1pdGF0aW9ucyB1bmRlciB0aGUgTGljZW5zZS4KCi8qKgogKiBAZmlsZW92ZXJ2aWV3IEhlbHBlcnMgZm9yIGdvb2dsZS5jb2xhYiBQeXRob24gbW9kdWxlLgogKi8KKGZ1bmN0aW9uKHNjb3BlKSB7CmZ1bmN0aW9uIHNwYW4odGV4dCwgc3R5bGVBdHRyaWJ1dGVzID0ge30pIHsKICBjb25zdCBlbGVtZW50ID0gZG9jdW1lbnQuY3JlYXRlRWxlbWVudCgnc3BhbicpOwogIGVsZW1lbnQudGV4dENvbnRlbnQgPSB0ZXh0OwogIGZvciAoY29uc3Qga2V5IG9mIE9iamVjdC5rZXlzKHN0eWxlQXR0cmlidXRlcykpIHsKICAgIGVsZW1lbnQuc3R5bGVba2V5XSA9IHN0eWxlQXR0cmlidXRlc1trZXldOwogIH0KICByZXR1cm4gZWxlbWVudDsKfQoKLy8gTWF4IG51bWJlciBvZiBieXRlcyB3aGljaCB3aWxsIGJlIHVwbG9hZGVkIGF0IGEgdGltZS4KY29uc3QgTUFYX1BBWUxPQURfU0laRSA9IDEwMCAqIDEwMjQ7CgpmdW5jdGlvbiBfdXBsb2FkRmlsZXMoaW5wdXRJZCwgb3V0cHV0SWQpIHsKICBjb25zdCBzdGVwcyA9IHVwbG9hZEZpbGVzU3RlcChpbnB1dElkLCBvdXRwdXRJZCk7CiAgY29uc3Qgb3V0cHV0RWxlbWVudCA9IGRvY3VtZW50LmdldEVsZW1lbnRCeUlkKG91dHB1dElkKTsKICAvLyBDYWNoZSBzdGVwcyBvbiB0aGUgb3V0cHV0RWxlbWVudCB0byBtYWtlIGl0IGF2YWlsYWJsZSBmb3IgdGhlIG5leHQgY2FsbAogIC8vIHRvIHVwbG9hZEZpbGVzQ29udGludWUgZnJvbSBQeXRob24uCiAgb3V0cHV0RWxlbWVudC5zdGVwcyA9IHN0ZXBzOwoKICByZXR1cm4gX3VwbG9hZEZpbGVzQ29udGludWUob3V0cHV0SWQpOwp9CgovLyBUaGlzIGlzIHJvdWdobHkgYW4gYXN5bmMgZ2VuZXJhdG9yIChub3Qgc3VwcG9ydGVkIGluIHRoZSBicm93c2VyIHlldCksCi8vIHdoZXJlIHRoZXJlIGFyZSBtdWx0aXBsZSBhc3luY2hyb25vdXMgc3RlcHMgYW5kIHRoZSBQeXRob24gc2lkZSBpcyBnb2luZwovLyB0byBwb2xsIGZvciBjb21wbGV0aW9uIG9mIGVhY2ggc3RlcC4KLy8gVGhpcyB1c2VzIGEgUHJvbWlzZSB0byBibG9jayB0aGUgcHl0aG9uIHNpZGUgb24gY29tcGxldGlvbiBvZiBlYWNoIHN0ZXAsCi8vIHRoZW4gcGFzc2VzIHRoZSByZXN1bHQgb2YgdGhlIHByZXZpb3VzIHN0ZXAgYXMgdGhlIGlucHV0IHRvIHRoZSBuZXh0IHN0ZXAuCmZ1bmN0aW9uIF91cGxvYWRGaWxlc0NvbnRpbnVlKG91dHB1dElkKSB7CiAgY29uc3Qgb3V0cHV0RWxlbWVudCA9IGRvY3VtZW50LmdldEVsZW1lbnRCeUlkKG91dHB1dElkKTsKICBjb25zdCBzdGVwcyA9IG91dHB1dEVsZW1lbnQuc3RlcHM7CgogIGNvbnN0IG5leHQgPSBzdGVwcy5uZXh0KG91dHB1dEVsZW1lbnQubGFzdFByb21pc2VWYWx1ZSk7CiAgcmV0dXJuIFByb21pc2UucmVzb2x2ZShuZXh0LnZhbHVlLnByb21pc2UpLnRoZW4oKHZhbHVlKSA9PiB7CiAgICAvLyBDYWNoZSB0aGUgbGFzdCBwcm9taXNlIHZhbHVlIHRvIG1ha2UgaXQgYXZhaWxhYmxlIHRvIHRoZSBuZXh0CiAgICAvLyBzdGVwIG9mIHRoZSBnZW5lcmF0b3IuCiAgICBvdXRwdXRFbGVtZW50Lmxhc3RQcm9taXNlVmFsdWUgPSB2YWx1ZTsKICAgIHJldHVybiBuZXh0LnZhbHVlLnJlc3BvbnNlOwogIH0pOwp9CgovKioKICogR2VuZXJhdG9yIGZ1bmN0aW9uIHdoaWNoIGlzIGNhbGxlZCBiZXR3ZWVuIGVhY2ggYXN5bmMgc3RlcCBvZiB0aGUgdXBsb2FkCiAqIHByb2Nlc3MuCiAqIEBwYXJhbSB7c3RyaW5nfSBpbnB1dElkIEVsZW1lbnQgSUQgb2YgdGhlIGlucHV0IGZpbGUgcGlja2VyIGVsZW1lbnQuCiAqIEBwYXJhbSB7c3RyaW5nfSBvdXRwdXRJZCBFbGVtZW50IElEIG9mIHRoZSBvdXRwdXQgZGlzcGxheS4KICogQHJldHVybiB7IUl0ZXJhYmxlPCFPYmplY3Q+fSBJdGVyYWJsZSBvZiBuZXh0IHN0ZXBzLgogKi8KZnVuY3Rpb24qIHVwbG9hZEZpbGVzU3RlcChpbnB1dElkLCBvdXRwdXRJZCkgewogIGNvbnN0IGlucHV0RWxlbWVudCA9IGRvY3VtZW50LmdldEVsZW1lbnRCeUlkKGlucHV0SWQpOwogIGlucHV0RWxlbWVudC5kaXNhYmxlZCA9IGZhbHNlOwoKICBjb25zdCBvdXRwdXRFbGVtZW50ID0gZG9jdW1lbnQuZ2V0RWxlbWVudEJ5SWQob3V0cHV0SWQpOwogIG91dHB1dEVsZW1lbnQuaW5uZXJIVE1MID0gJyc7CgogIGNvbnN0IHBpY2tlZFByb21pc2UgPSBuZXcgUHJvbWlzZSgocmVzb2x2ZSkgPT4gewogICAgaW5wdXRFbGVtZW50LmFkZEV2ZW50TGlzdGVuZXIoJ2NoYW5nZScsIChlKSA9PiB7CiAgICAgIHJlc29sdmUoZS50YXJnZXQuZmlsZXMpOwogICAgfSk7CiAgfSk7CgogIGNvbnN0IGNhbmNlbCA9IGRvY3VtZW50LmNyZWF0ZUVsZW1lbnQoJ2J1dHRvbicpOwogIGlucHV0RWxlbWVudC5wYXJlbnRFbGVtZW50LmFwcGVuZENoaWxkKGNhbmNlbCk7CiAgY2FuY2VsLnRleHRDb250ZW50ID0gJ0NhbmNlbCB1cGxvYWQnOwogIGNvbnN0IGNhbmNlbFByb21pc2UgPSBuZXcgUHJvbWlzZSgocmVzb2x2ZSkgPT4gewogICAgY2FuY2VsLm9uY2xpY2sgPSAoKSA9PiB7CiAgICAgIHJlc29sdmUobnVsbCk7CiAgICB9OwogIH0pOwoKICAvLyBXYWl0IGZvciB0aGUgdXNlciB0byBwaWNrIHRoZSBmaWxlcy4KICBjb25zdCBmaWxlcyA9IHlpZWxkIHsKICAgIHByb21pc2U6IFByb21pc2UucmFjZShbcGlja2VkUHJvbWlzZSwgY2FuY2VsUHJvbWlzZV0pLAogICAgcmVzcG9uc2U6IHsKICAgICAgYWN0aW9uOiAnc3RhcnRpbmcnLAogICAgfQogIH07CgogIGNhbmNlbC5yZW1vdmUoKTsKCiAgLy8gRGlzYWJsZSB0aGUgaW5wdXQgZWxlbWVudCBzaW5jZSBmdXJ0aGVyIHBpY2tzIGFyZSBub3QgYWxsb3dlZC4KICBpbnB1dEVsZW1lbnQuZGlzYWJsZWQgPSB0cnVlOwoKICBpZiAoIWZpbGVzKSB7CiAgICByZXR1cm4gewogICAgICByZXNwb25zZTogewogICAgICAgIGFjdGlvbjogJ2NvbXBsZXRlJywKICAgICAgfQogICAgfTsKICB9CgogIGZvciAoY29uc3QgZmlsZSBvZiBmaWxlcykgewogICAgY29uc3QgbGkgPSBkb2N1bWVudC5jcmVhdGVFbGVtZW50KCdsaScpOwogICAgbGkuYXBwZW5kKHNwYW4oZmlsZS5uYW1lLCB7Zm9udFdlaWdodDogJ2JvbGQnfSkpOwogICAgbGkuYXBwZW5kKHNwYW4oCiAgICAgICAgYCgke2ZpbGUudHlwZSB8fCAnbi9hJ30pIC0gJHtmaWxlLnNpemV9IGJ5dGVzLCBgICsKICAgICAgICBgbGFzdCBtb2RpZmllZDogJHsKICAgICAgICAgICAgZmlsZS5sYXN0TW9kaWZpZWREYXRlID8gZmlsZS5sYXN0TW9kaWZpZWREYXRlLnRvTG9jYWxlRGF0ZVN0cmluZygpIDoKICAgICAgICAgICAgICAgICAgICAgICAgICAgICAgICAgICAgJ24vYSd9IC0gYCkpOwogICAgY29uc3QgcGVyY2VudCA9IHNwYW4oJzAlIGRvbmUnKTsKICAgIGxpLmFwcGVuZENoaWxkKHBlcmNlbnQpOwoKICAgIG91dHB1dEVsZW1lbnQuYXBwZW5kQ2hpbGQobGkpOwoKICAgIGNvbnN0IGZpbGVEYXRhUHJvbWlzZSA9IG5ldyBQcm9taXNlKChyZXNvbHZlKSA9PiB7CiAgICAgIGNvbnN0IHJlYWRlciA9IG5ldyBGaWxlUmVhZGVyKCk7CiAgICAgIHJlYWRlci5vbmxvYWQgPSAoZSkgPT4gewogICAgICAgIHJlc29sdmUoZS50YXJnZXQucmVzdWx0KTsKICAgICAgfTsKICAgICAgcmVhZGVyLnJlYWRBc0FycmF5QnVmZmVyKGZpbGUpOwogICAgfSk7CiAgICAvLyBXYWl0IGZvciB0aGUgZGF0YSB0byBiZSByZWFkeS4KICAgIGxldCBmaWxlRGF0YSA9IHlpZWxkIHsKICAgICAgcHJvbWlzZTogZmlsZURhdGFQcm9taXNlLAogICAgICByZXNwb25zZTogewogICAgICAgIGFjdGlvbjogJ2NvbnRpbnVlJywKICAgICAgfQogICAgfTsKCiAgICAvLyBVc2UgYSBjaHVua2VkIHNlbmRpbmcgdG8gYXZvaWQgbWVzc2FnZSBzaXplIGxpbWl0cy4gU2VlIGIvNjIxMTU2NjAuCiAgICBsZXQgcG9zaXRpb24gPSAwOwogICAgZG8gewogICAgICBjb25zdCBsZW5ndGggPSBNYXRoLm1pbihmaWxlRGF0YS5ieXRlTGVuZ3RoIC0gcG9zaXRpb24sIE1BWF9QQVlMT0FEX1NJWkUpOwogICAgICBjb25zdCBjaHVuayA9IG5ldyBVaW50OEFycmF5KGZpbGVEYXRhLCBwb3NpdGlvbiwgbGVuZ3RoKTsKICAgICAgcG9zaXRpb24gKz0gbGVuZ3RoOwoKICAgICAgY29uc3QgYmFzZTY0ID0gYnRvYShTdHJpbmcuZnJvbUNoYXJDb2RlLmFwcGx5KG51bGwsIGNodW5rKSk7CiAgICAgIHlpZWxkIHsKICAgICAgICByZXNwb25zZTogewogICAgICAgICAgYWN0aW9uOiAnYXBwZW5kJywKICAgICAgICAgIGZpbGU6IGZpbGUubmFtZSwKICAgICAgICAgIGRhdGE6IGJhc2U2NCwKICAgICAgICB9LAogICAgICB9OwoKICAgICAgbGV0IHBlcmNlbnREb25lID0gZmlsZURhdGEuYnl0ZUxlbmd0aCA9PT0gMCA/CiAgICAgICAgICAxMDAgOgogICAgICAgICAgTWF0aC5yb3VuZCgocG9zaXRpb24gLyBmaWxlRGF0YS5ieXRlTGVuZ3RoKSAqIDEwMCk7CiAgICAgIHBlcmNlbnQudGV4dENvbnRlbnQgPSBgJHtwZXJjZW50RG9uZX0lIGRvbmVgOwoKICAgIH0gd2hpbGUgKHBvc2l0aW9uIDwgZmlsZURhdGEuYnl0ZUxlbmd0aCk7CiAgfQoKICAvLyBBbGwgZG9uZS4KICB5aWVsZCB7CiAgICByZXNwb25zZTogewogICAgICBhY3Rpb246ICdjb21wbGV0ZScsCiAgICB9CiAgfTsKfQoKc2NvcGUuZ29vZ2xlID0gc2NvcGUuZ29vZ2xlIHx8IHt9OwpzY29wZS5nb29nbGUuY29sYWIgPSBzY29wZS5nb29nbGUuY29sYWIgfHwge307CnNjb3BlLmdvb2dsZS5jb2xhYi5fZmlsZXMgPSB7CiAgX3VwbG9hZEZpbGVzLAogIF91cGxvYWRGaWxlc0NvbnRpbnVlLAp9Owp9KShzZWxmKTsK",
              "ok": true,
              "headers": [
                [
                  "content-type",
                  "application/javascript"
                ]
              ],
              "status": 200,
              "status_text": ""
            }
          },
          "base_uri": "https://localhost:8080/",
          "height": 123
        },
        "id": "-nlF-C5n0SNh",
        "outputId": "fab3b365-5028-417c-a75e-750b5c142db2"
      },
      "source": [
        "upload_files()"
      ],
      "execution_count": 10,
      "outputs": [
        {
          "output_type": "display_data",
          "data": {
            "text/html": [
              "\n",
              "     <input type=\"file\" id=\"files-145c4083-c230-4b10-bcba-3a57faf75727\" name=\"files[]\" multiple disabled\n",
              "        style=\"border:none\" />\n",
              "     <output id=\"result-145c4083-c230-4b10-bcba-3a57faf75727\">\n",
              "      Upload widget is only available when the cell has been executed in the\n",
              "      current browser session. Please rerun this cell to enable.\n",
              "      </output>\n",
              "      <script src=\"/nbextensions/google.colab/files.js\"></script> "
            ],
            "text/plain": [
              "<IPython.core.display.HTML object>"
            ]
          },
          "metadata": {}
        },
        {
          "output_type": "stream",
          "name": "stdout",
          "text": [
            "Saving GAT.py to GAT.py\n",
            "Saving performance.py to performance.py\n",
            "Saving Sparsemax.py to Sparsemax.py\n"
          ]
        },
        {
          "output_type": "execute_result",
          "data": {
            "text/plain": [
              "['GAT.py', 'performance.py', 'Sparsemax.py']"
            ]
          },
          "metadata": {},
          "execution_count": 10
        }
      ]
    },
    {
      "cell_type": "code",
      "metadata": {
        "id": "DofZPMoDz6a-"
      },
      "source": [
        "import GAT\n",
        "import Sparsemax\n",
        "import performance as pf\n"
      ],
      "execution_count": 11,
      "outputs": []
    },
    {
      "cell_type": "code",
      "metadata": {
        "id": "7JgH7hAsOwQt"
      },
      "source": [
        ""
      ],
      "execution_count": 11,
      "outputs": []
    },
    {
      "cell_type": "markdown",
      "metadata": {
        "id": "xA9iRvQqtTZk"
      },
      "source": [
        "# Graph Neural Network Definition\n",
        "\n"
      ]
    },
    {
      "cell_type": "code",
      "metadata": {
        "id": "08EnIPQSaX9G"
      },
      "source": [
        "class GATLayer(nn.Module):\n",
        "    def __init__(self, g, in_dim, out_dim):\n",
        "        super(GATLayer, self).__init__()\n",
        "        self.g = g\n",
        "        # equation (1)\n",
        "        self.fc = nn.Linear(in_dim, out_dim, bias=False)\n",
        "        # equation (2)\n",
        "        self.attn_fc = nn.Linear(2 * out_dim, 1, bias=False)\n",
        "\n",
        "    def edge_attention(self, edges):\n",
        "        # edge UDF for equation (2)\n",
        "        z2 = th.cat([edges.src['z'], edges.dst['z']], dim=1)\n",
        "        a = self.attn_fc(z2)\n",
        "        return {'e': F.leaky_relu(a)}\n",
        "\n",
        "    def message_func(self, edges):\n",
        "        # message UDF for equation (3) & (4)\n",
        "        return {'z': edges.src['z'], 'e': edges.data['e']}\n",
        "\n",
        "    def reduce_func(self, nodes):\n",
        "        # reduce UDF for equation (3) & (4)\n",
        "        # equation (3)\n",
        "        alpha = F.softmax(nodes.mailbox['e'], dim=1)\n",
        "        # equation (4)\n",
        "        h = th.sum(alpha * nodes.mailbox['z'], dim=1)\n",
        "        return {'h': h}\n",
        "\n",
        "    def forward(self, h):\n",
        "        # equation (1)\n",
        "        z = self.fc(h)\n",
        "        self.g.ndata['z'] = z\n",
        "        # equation (2)\n",
        "        self.g.apply_edges(self.edge_attention)\n",
        "        # equation (3) & (4)\n",
        "        self.g.update_all(self.message_func, self.reduce_func)\n",
        "        return self.g.ndata.pop('h')\n"
      ],
      "execution_count": 12,
      "outputs": []
    },
    {
      "cell_type": "code",
      "metadata": {
        "id": "90qOw_TXbNTf"
      },
      "source": [
        "class MultiHeadGATLayer(nn.Module):\n",
        "    def __init__(self, g, in_dim, out_dim, num_heads, merge='cat'):\n",
        "        super(MultiHeadGATLayer, self).__init__()\n",
        "        self.heads = nn.ModuleList()\n",
        "        for i in range(num_heads):\n",
        "            self.heads.append(GATLayer(g, in_dim, out_dim))\n",
        "        self.merge = merge\n",
        "\n",
        "    def forward(self, h):\n",
        "        head_outs = [attn_head(h) for attn_head in self.heads]\n",
        "        if self.merge == 'cat':\n",
        "            # concat on the output feature dimension (dim=1)\n",
        "            return th.cat(head_outs, dim=1)\n",
        "        else:\n",
        "            # merge using average\n",
        "            return th.mean(torch.stack(head_outs))"
      ],
      "execution_count": 13,
      "outputs": []
    },
    {
      "cell_type": "code",
      "metadata": {
        "id": "zXJk-TtibQhN"
      },
      "source": [
        "class Net(nn.Module):\n",
        "    def __init__(self, g, in_dim, hidden_dim, out_dim, num_heads):\n",
        "        super(Net, self).__init__()\n",
        "        self.layer1 = MultiHeadGATLayer(g, in_dim, hidden_dim, num_heads)\n",
        "        # Be aware that the input dimension is hidden_dim*num_heads since\n",
        "        # multiple head outputs are concatenated together. Also, only\n",
        "        # one attention head in the output layer.\n",
        "        self.layer2 = MultiHeadGATLayer(g, hidden_dim * num_heads, out_dim, 1)\n",
        "\n",
        "    def forward(self, h):\n",
        "        h = self.layer1(h)\n",
        "        h = F.elu(h)\n",
        "        h = self.layer2(h)\n",
        "        h = F.log_softmax(h, 1)\n",
        "        return h"
      ],
      "execution_count": 14,
      "outputs": []
    },
    {
      "cell_type": "markdown",
      "metadata": {
        "id": "bx2sFf240dIQ"
      },
      "source": [
        "# Data Loading"
      ]
    },
    {
      "cell_type": "code",
      "metadata": {
        "colab": {
          "base_uri": "https://localhost:8080/"
        },
        "id": "nHyZ_u4ybSje",
        "outputId": "e6ab96a7-2f89-48b5-b790-a4930740b4c6"
      },
      "source": [
        "from dgl.data import PubmedGraphDataset as pubmed\n",
        "import networkx as nx\n",
        "\n",
        "data = pubmed()\n",
        "\n",
        "# features = th.FloatTensor(data.features)\n",
        "# labels = th.LongTensor(data.labels)\n",
        "# mask = th.ByteTensor(data.train_mask)\n",
        "#g1 = data.graph\n",
        "\n",
        "##\n",
        "g = data[0]\n",
        "num_class = data.num_classes\n",
        "\n",
        "features = g.ndata['feat']\n",
        "\n",
        "train_mask = g.ndata['train_mask']\n",
        "val_mask = g.ndata['val_mask']\n",
        "test_mask = g.ndata['test_mask']\n",
        "labels = g.ndata['label']\n",
        "\n",
        "# add self loop\n",
        "#g.remove_edges_from(nx.selfloop_edges(g))\n",
        "g  = dgl.remove_self_loop(g)\n",
        "#g = DGLGraph(g)\n",
        "g.add_edges(g.nodes(), g.nodes())\n",
        "\n",
        "comb_mask = torch.zeros(len(train_mask), dtype=torch.bool)\n",
        "\n",
        "for i in range(len(comb_mask)):\n",
        "    if test_mask[i] or train_mask[i] or val_mask[i]:\n",
        "        comb_mask[i] = True\n"
      ],
      "execution_count": 32,
      "outputs": [
        {
          "output_type": "stream",
          "name": "stdout",
          "text": [
            "  NumNodes: 19717\n",
            "  NumEdges: 88651\n",
            "  NumFeats: 500\n",
            "  NumClasses: 3\n",
            "  NumTrainingSamples: 60\n",
            "  NumValidationSamples: 500\n",
            "  NumTestSamples: 1000\n",
            "Done loading data from cached files.\n"
          ]
        }
      ]
    },
    {
      "cell_type": "code",
      "metadata": {
        "colab": {
          "base_uri": "https://localhost:8080/"
        },
        "id": "sntihQrF1Bpi",
        "outputId": "77855347-287c-4890-94f8-0a2f2e4c0641"
      },
      "source": [
        "print('We have %d nodes.' % g.number_of_nodes())\n",
        "print('We have %d edges.' % g.number_of_edges())"
      ],
      "execution_count": 20,
      "outputs": [
        {
          "output_type": "stream",
          "name": "stdout",
          "text": [
            "We have 19717 nodes.\n",
            "We have 108365 edges.\n"
          ]
        }
      ]
    },
    {
      "cell_type": "markdown",
      "metadata": {
        "id": "hSXAbdMR0ncM"
      },
      "source": [
        "# Selecting Training Set"
      ]
    },
    {
      "cell_type": "code",
      "metadata": {
        "id": "m0KdxXbFtizM"
      },
      "source": [
        "percentage_train = 0.1\n",
        "percentage_val = 0.1\n",
        "\n",
        "with open(\"drive/MyDrive/CSCE689/data_pubchem/pubmed_permutation6.pickle\",\"rb\") as f:\n",
        "    perm1 = pickle.load(f)\n",
        "mask_train = np.zeros(g.number_of_nodes())\n",
        "mask_val = np.zeros(g.number_of_nodes())\n",
        "\n",
        "i_train = int(percentage_train*g.number_of_nodes())\n",
        "i_val = i_train + int(percentage_val*g.number_of_nodes())\n",
        "mask_train[perm1[range(0,i_train)]] = 1\n",
        "mask_val[perm1[range(i_train,i_val)]] = 1\n",
        "mask_train = th.BoolTensor(mask_train)\n",
        "mask_val = th.BoolTensor(mask_val)"
      ],
      "execution_count": 22,
      "outputs": []
    },
    {
      "cell_type": "markdown",
      "metadata": {
        "id": "0KC_oeecIWZo"
      },
      "source": [
        "## Training"
      ]
    },
    {
      "cell_type": "code",
      "metadata": {
        "id": "Oyi6Z9od0prq"
      },
      "source": [
        "loss_function = pf.perm_inv_loss(labels)\n",
        "import copy"
      ],
      "execution_count": 23,
      "outputs": []
    },
    {
      "cell_type": "code",
      "metadata": {
        "colab": {
          "base_uri": "https://localhost:8080/"
        },
        "id": "M0HYmM23IVg2",
        "outputId": "08ba51b6-1e98-4044-b361-0138034fbdf1"
      },
      "source": [
        "import time\n",
        "\n",
        "net = GAT.GAT_Net_fast(g=g, in_feats=features.shape[1], hidden_size=100, hidden_layers=2, out_feats=len(np.unique(labels)),\n",
        "dropout=0.2, batchnorm=False, num_heads=1, residual = False)\n",
        "#print(net)\n",
        "\n",
        "optimizer = th.optim.Adam(net.parameters(), lr=1e-2, weight_decay=1e-2)\n",
        "net.train() # Set to training mode (use dropout)\n",
        "\n",
        "dur = []\n",
        "loss_ev = []\n",
        "current_best = 0 #arbitrarily high\n",
        "current_best_epoch = 0\n",
        "current_best_params = None\n",
        "no_improvement_for = 0\n",
        "\n",
        "for epoch in range(1000):\n",
        "    if epoch >=3:\n",
        "        t0 = time.time()\n",
        "\n",
        "    # Compute loss for test nodes (only for validation, not used by optimizer)\n",
        "    net.eval()\n",
        "    prediction = net(features)\n",
        "    train_rand = pf.rand_score(labels[mask_train].numpy(),np.argmax(prediction[mask_train].detach().numpy(), axis=1))\n",
        "    validation_rand = pf.rand_score(labels[mask_val].numpy(),np.argmax(prediction[mask_val].detach().numpy(), axis=1))\n",
        "    if train_rand>current_best:\n",
        "        current_best = train_rand\n",
        "        current_best_epoch = epoch\n",
        "        current_best_params = copy.deepcopy(net.state_dict())\n",
        "        no_improvement_for = 0\n",
        "    else: no_improvement_for += 1\n",
        "    \n",
        "    if no_improvement_for>50:\n",
        "        break\n",
        "    \n",
        "    net.train()\n",
        "\n",
        "    # Compute loss for train nodes\n",
        "    logits = net(features)\n",
        "\n",
        "    #loss = loss_function.approximate_loss(logits,mask_train,nclasses=7)\n",
        "    loss = F.nll_loss(logits[mask_train], labels[mask_train])\n",
        "    loss_ev.append(loss.detach().item())\n",
        "    #print(np.unique(np.argmax(logits[mask_train].detach().numpy(),1)))\n",
        "    \n",
        "    \n",
        "    optimizer.zero_grad()\n",
        "    loss.backward()\n",
        "    optimizer.step()\n",
        "\n",
        "    if epoch >=3:\n",
        "        dur.append(time.time() - t0)\n",
        "        print(f\"Epoch {epoch:05d} | Loss {loss.item():.4f} | Train.Rand {train_rand:.4f} | Valid.Rand {validation_rand:.4f} | Time(s) {np.mean(dur):.4f}\")\n",
        "    else:\n",
        "        print(f\"Epoch {epoch:05d} | Loss {loss.item():.4f} | Train.Rand {train_rand:.4f} | Valid.Rand {validation_rand:.4f} | Time(s) unknown\")\n",
        "        \n",
        "net.load_state_dict(current_best_params)"
      ],
      "execution_count": 24,
      "outputs": [
        {
          "output_type": "stream",
          "name": "stdout",
          "text": [
            "Epoch 00000 | Loss 1.7746 | Train.Rand 0.0472 | Valid.Rand 0.0446 | Time(s) unknown\n",
            "Epoch 00001 | Loss 1.1378 | Train.Rand 0.3599 | Valid.Rand 0.3307 | Time(s) unknown\n",
            "Epoch 00002 | Loss 0.8009 | Train.Rand 0.4578 | Valid.Rand 0.4251 | Time(s) unknown\n",
            "Epoch 00003 | Loss 0.7881 | Train.Rand 0.4004 | Valid.Rand 0.3599 | Time(s) 0.7357\n",
            "Epoch 00004 | Loss 0.6489 | Train.Rand 0.4758 | Valid.Rand 0.4205 | Time(s) 0.7336\n",
            "Epoch 00005 | Loss 0.6136 | Train.Rand 0.5266 | Valid.Rand 0.4517 | Time(s) 0.7390\n",
            "Epoch 00006 | Loss 0.5707 | Train.Rand 0.5621 | Valid.Rand 0.4859 | Time(s) 0.7368\n",
            "Epoch 00007 | Loss 0.5497 | Train.Rand 0.5705 | Valid.Rand 0.4735 | Time(s) 0.7376\n",
            "Epoch 00008 | Loss 0.4643 | Train.Rand 0.5952 | Valid.Rand 0.5175 | Time(s) 0.7397\n",
            "Epoch 00009 | Loss 0.4748 | Train.Rand 0.6077 | Valid.Rand 0.5256 | Time(s) 0.7378\n",
            "Epoch 00010 | Loss 0.4621 | Train.Rand 0.6118 | Valid.Rand 0.5130 | Time(s) 0.7397\n",
            "Epoch 00011 | Loss 0.4445 | Train.Rand 0.6175 | Valid.Rand 0.5227 | Time(s) 0.7412\n",
            "Epoch 00012 | Loss 0.4639 | Train.Rand 0.6070 | Valid.Rand 0.5265 | Time(s) 0.7419\n",
            "Epoch 00013 | Loss 0.4530 | Train.Rand 0.6197 | Valid.Rand 0.5356 | Time(s) 0.7420\n",
            "Epoch 00014 | Loss 0.4134 | Train.Rand 0.6378 | Valid.Rand 0.5394 | Time(s) 0.7436\n",
            "Epoch 00015 | Loss 0.4211 | Train.Rand 0.6395 | Valid.Rand 0.5416 | Time(s) 0.7495\n",
            "Epoch 00016 | Loss 0.4081 | Train.Rand 0.6519 | Valid.Rand 0.5471 | Time(s) 0.7553\n",
            "Epoch 00017 | Loss 0.3953 | Train.Rand 0.6518 | Valid.Rand 0.5537 | Time(s) 0.7583\n",
            "Epoch 00018 | Loss 0.3981 | Train.Rand 0.6713 | Valid.Rand 0.5479 | Time(s) 0.7579\n",
            "Epoch 00019 | Loss 0.3860 | Train.Rand 0.6779 | Valid.Rand 0.5514 | Time(s) 0.7577\n",
            "Epoch 00020 | Loss 0.3747 | Train.Rand 0.6788 | Valid.Rand 0.5518 | Time(s) 0.7583\n",
            "Epoch 00021 | Loss 0.3614 | Train.Rand 0.6866 | Valid.Rand 0.5445 | Time(s) 0.7570\n",
            "Epoch 00022 | Loss 0.3604 | Train.Rand 0.6895 | Valid.Rand 0.5566 | Time(s) 0.7563\n",
            "Epoch 00023 | Loss 0.3553 | Train.Rand 0.6894 | Valid.Rand 0.5516 | Time(s) 0.7552\n",
            "Epoch 00024 | Loss 0.3523 | Train.Rand 0.6956 | Valid.Rand 0.5515 | Time(s) 0.7554\n",
            "Epoch 00025 | Loss 0.3373 | Train.Rand 0.6878 | Valid.Rand 0.5398 | Time(s) 0.7542\n",
            "Epoch 00026 | Loss 0.3305 | Train.Rand 0.7042 | Valid.Rand 0.5392 | Time(s) 0.7532\n",
            "Epoch 00027 | Loss 0.3237 | Train.Rand 0.7210 | Valid.Rand 0.5511 | Time(s) 0.7525\n",
            "Epoch 00028 | Loss 0.3191 | Train.Rand 0.7310 | Valid.Rand 0.5483 | Time(s) 0.7534\n",
            "Epoch 00029 | Loss 0.3151 | Train.Rand 0.7389 | Valid.Rand 0.5506 | Time(s) 0.7532\n",
            "Epoch 00030 | Loss 0.3098 | Train.Rand 0.7496 | Valid.Rand 0.5497 | Time(s) 0.7550\n",
            "Epoch 00031 | Loss 0.2995 | Train.Rand 0.7487 | Valid.Rand 0.5472 | Time(s) 0.7565\n",
            "Epoch 00032 | Loss 0.3008 | Train.Rand 0.7477 | Valid.Rand 0.5463 | Time(s) 0.7566\n",
            "Epoch 00033 | Loss 0.2873 | Train.Rand 0.7567 | Valid.Rand 0.5348 | Time(s) 0.7551\n",
            "Epoch 00034 | Loss 0.2823 | Train.Rand 0.7661 | Valid.Rand 0.5409 | Time(s) 0.7541\n",
            "Epoch 00035 | Loss 0.2892 | Train.Rand 0.7665 | Valid.Rand 0.5351 | Time(s) 0.7531\n",
            "Epoch 00036 | Loss 0.2873 | Train.Rand 0.7667 | Valid.Rand 0.5439 | Time(s) 0.7519\n",
            "Epoch 00037 | Loss 0.2818 | Train.Rand 0.7587 | Valid.Rand 0.5486 | Time(s) 0.7522\n",
            "Epoch 00038 | Loss 0.3014 | Train.Rand 0.7618 | Valid.Rand 0.5344 | Time(s) 0.7521\n",
            "Epoch 00039 | Loss 0.2798 | Train.Rand 0.7673 | Valid.Rand 0.5355 | Time(s) 0.7520\n",
            "Epoch 00040 | Loss 0.2642 | Train.Rand 0.7813 | Valid.Rand 0.5324 | Time(s) 0.7521\n",
            "Epoch 00041 | Loss 0.2754 | Train.Rand 0.7617 | Valid.Rand 0.5357 | Time(s) 0.7521\n",
            "Epoch 00042 | Loss 0.2944 | Train.Rand 0.7806 | Valid.Rand 0.5317 | Time(s) 0.7523\n",
            "Epoch 00043 | Loss 0.2730 | Train.Rand 0.7952 | Valid.Rand 0.5379 | Time(s) 0.7529\n",
            "Epoch 00044 | Loss 0.2839 | Train.Rand 0.7782 | Valid.Rand 0.5255 | Time(s) 0.7522\n",
            "Epoch 00045 | Loss 0.2782 | Train.Rand 0.7848 | Valid.Rand 0.5212 | Time(s) 0.7517\n",
            "Epoch 00046 | Loss 0.2661 | Train.Rand 0.7709 | Valid.Rand 0.5405 | Time(s) 0.7510\n",
            "Epoch 00047 | Loss 0.2667 | Train.Rand 0.7867 | Valid.Rand 0.5361 | Time(s) 0.7504\n",
            "Epoch 00048 | Loss 0.2786 | Train.Rand 0.7876 | Valid.Rand 0.5263 | Time(s) 0.7500\n",
            "Epoch 00049 | Loss 0.2960 | Train.Rand 0.7700 | Valid.Rand 0.5497 | Time(s) 0.7497\n",
            "Epoch 00050 | Loss 0.2908 | Train.Rand 0.7724 | Valid.Rand 0.5216 | Time(s) 0.7497\n",
            "Epoch 00051 | Loss 0.2739 | Train.Rand 0.7879 | Valid.Rand 0.5569 | Time(s) 0.7492\n",
            "Epoch 00052 | Loss 0.2633 | Train.Rand 0.7719 | Valid.Rand 0.5363 | Time(s) 0.7493\n",
            "Epoch 00053 | Loss 0.2679 | Train.Rand 0.7812 | Valid.Rand 0.5331 | Time(s) 0.7489\n",
            "Epoch 00054 | Loss 0.2658 | Train.Rand 0.7805 | Valid.Rand 0.5229 | Time(s) 0.7482\n",
            "Epoch 00055 | Loss 0.2767 | Train.Rand 0.7792 | Valid.Rand 0.5202 | Time(s) 0.7482\n",
            "Epoch 00056 | Loss 0.2760 | Train.Rand 0.7920 | Valid.Rand 0.5136 | Time(s) 0.7484\n",
            "Epoch 00057 | Loss 0.2697 | Train.Rand 0.7711 | Valid.Rand 0.5138 | Time(s) 0.7490\n",
            "Epoch 00058 | Loss 0.2696 | Train.Rand 0.7798 | Valid.Rand 0.5327 | Time(s) 0.7494\n",
            "Epoch 00059 | Loss 0.2663 | Train.Rand 0.7765 | Valid.Rand 0.5214 | Time(s) 0.7500\n",
            "Epoch 00060 | Loss 0.2652 | Train.Rand 0.7760 | Valid.Rand 0.5284 | Time(s) 0.7504\n",
            "Epoch 00061 | Loss 0.2837 | Train.Rand 0.7567 | Valid.Rand 0.5449 | Time(s) 0.7508\n",
            "Epoch 00062 | Loss 0.2485 | Train.Rand 0.8040 | Valid.Rand 0.5267 | Time(s) 0.7511\n",
            "Epoch 00063 | Loss 0.2661 | Train.Rand 0.7829 | Valid.Rand 0.5098 | Time(s) 0.7515\n",
            "Epoch 00064 | Loss 0.2739 | Train.Rand 0.7762 | Valid.Rand 0.5461 | Time(s) 0.7517\n",
            "Epoch 00065 | Loss 0.2611 | Train.Rand 0.7805 | Valid.Rand 0.5585 | Time(s) 0.7521\n",
            "Epoch 00066 | Loss 0.3001 | Train.Rand 0.7550 | Valid.Rand 0.4996 | Time(s) 0.7520\n",
            "Epoch 00067 | Loss 0.2509 | Train.Rand 0.7956 | Valid.Rand 0.5324 | Time(s) 0.7516\n",
            "Epoch 00068 | Loss 0.2893 | Train.Rand 0.7809 | Valid.Rand 0.5295 | Time(s) 0.7515\n",
            "Epoch 00069 | Loss 0.2595 | Train.Rand 0.7928 | Valid.Rand 0.5463 | Time(s) 0.7515\n",
            "Epoch 00070 | Loss 0.2757 | Train.Rand 0.7678 | Valid.Rand 0.5455 | Time(s) 0.7519\n",
            "Epoch 00071 | Loss 0.2583 | Train.Rand 0.7738 | Valid.Rand 0.5616 | Time(s) 0.7523\n",
            "Epoch 00072 | Loss 0.2631 | Train.Rand 0.7792 | Valid.Rand 0.5359 | Time(s) 0.7524\n",
            "Epoch 00073 | Loss 0.2564 | Train.Rand 0.8077 | Valid.Rand 0.5306 | Time(s) 0.7528\n",
            "Epoch 00074 | Loss 0.2435 | Train.Rand 0.8268 | Valid.Rand 0.5330 | Time(s) 0.7529\n",
            "Epoch 00075 | Loss 0.2559 | Train.Rand 0.7859 | Valid.Rand 0.5478 | Time(s) 0.7527\n",
            "Epoch 00076 | Loss 0.2476 | Train.Rand 0.7853 | Valid.Rand 0.5580 | Time(s) 0.7528\n",
            "Epoch 00077 | Loss 0.2476 | Train.Rand 0.7964 | Valid.Rand 0.5321 | Time(s) 0.7534\n",
            "Epoch 00078 | Loss 0.2438 | Train.Rand 0.8019 | Valid.Rand 0.5428 | Time(s) 0.7539\n",
            "Epoch 00079 | Loss 0.2495 | Train.Rand 0.8024 | Valid.Rand 0.5496 | Time(s) 0.7543\n",
            "Epoch 00080 | Loss 0.2541 | Train.Rand 0.7943 | Valid.Rand 0.5144 | Time(s) 0.7549\n",
            "Epoch 00081 | Loss 0.2543 | Train.Rand 0.7945 | Valid.Rand 0.5387 | Time(s) 0.7554\n",
            "Epoch 00082 | Loss 0.2567 | Train.Rand 0.7948 | Valid.Rand 0.5488 | Time(s) 0.7557\n",
            "Epoch 00083 | Loss 0.2568 | Train.Rand 0.8076 | Valid.Rand 0.5386 | Time(s) 0.7556\n",
            "Epoch 00084 | Loss 0.2546 | Train.Rand 0.8076 | Valid.Rand 0.5555 | Time(s) 0.7557\n",
            "Epoch 00085 | Loss 0.2590 | Train.Rand 0.7912 | Valid.Rand 0.5438 | Time(s) 0.7558\n",
            "Epoch 00086 | Loss 0.2519 | Train.Rand 0.8098 | Valid.Rand 0.5243 | Time(s) 0.7557\n",
            "Epoch 00087 | Loss 0.2483 | Train.Rand 0.7990 | Valid.Rand 0.5299 | Time(s) 0.7556\n",
            "Epoch 00088 | Loss 0.2649 | Train.Rand 0.7761 | Valid.Rand 0.5508 | Time(s) 0.7555\n",
            "Epoch 00089 | Loss 0.2340 | Train.Rand 0.7985 | Valid.Rand 0.5587 | Time(s) 0.7554\n",
            "Epoch 00090 | Loss 0.2433 | Train.Rand 0.7943 | Valid.Rand 0.5381 | Time(s) 0.7553\n",
            "Epoch 00091 | Loss 0.2436 | Train.Rand 0.7993 | Valid.Rand 0.5198 | Time(s) 0.7551\n",
            "Epoch 00092 | Loss 0.2495 | Train.Rand 0.8260 | Valid.Rand 0.5085 | Time(s) 0.7549\n",
            "Epoch 00093 | Loss 0.2175 | Train.Rand 0.8075 | Valid.Rand 0.5125 | Time(s) 0.7550\n",
            "Epoch 00094 | Loss 0.2562 | Train.Rand 0.8108 | Valid.Rand 0.5263 | Time(s) 0.7548\n",
            "Epoch 00095 | Loss 0.2497 | Train.Rand 0.8088 | Valid.Rand 0.5263 | Time(s) 0.7548\n",
            "Epoch 00096 | Loss 0.2558 | Train.Rand 0.8157 | Valid.Rand 0.5236 | Time(s) 0.7548\n",
            "Epoch 00097 | Loss 0.2497 | Train.Rand 0.8100 | Valid.Rand 0.5307 | Time(s) 0.7548\n",
            "Epoch 00098 | Loss 0.2682 | Train.Rand 0.7797 | Valid.Rand 0.5310 | Time(s) 0.7551\n",
            "Epoch 00099 | Loss 0.2755 | Train.Rand 0.7664 | Valid.Rand 0.5302 | Time(s) 0.7550\n",
            "Epoch 00100 | Loss 0.2498 | Train.Rand 0.8016 | Valid.Rand 0.5303 | Time(s) 0.7550\n",
            "Epoch 00101 | Loss 0.2603 | Train.Rand 0.8054 | Valid.Rand 0.5206 | Time(s) 0.7553\n",
            "Epoch 00102 | Loss 0.2959 | Train.Rand 0.7345 | Valid.Rand 0.5269 | Time(s) 0.7558\n",
            "Epoch 00103 | Loss 0.2671 | Train.Rand 0.7863 | Valid.Rand 0.5375 | Time(s) 0.7559\n",
            "Epoch 00104 | Loss 0.2888 | Train.Rand 0.7543 | Valid.Rand 0.5042 | Time(s) 0.7560\n",
            "Epoch 00105 | Loss 0.2645 | Train.Rand 0.7523 | Valid.Rand 0.5413 | Time(s) 0.7562\n",
            "Epoch 00106 | Loss 0.2548 | Train.Rand 0.7732 | Valid.Rand 0.5402 | Time(s) 0.7564\n",
            "Epoch 00107 | Loss 0.2638 | Train.Rand 0.7686 | Valid.Rand 0.5386 | Time(s) 0.7567\n",
            "Epoch 00108 | Loss 0.2645 | Train.Rand 0.7903 | Valid.Rand 0.5536 | Time(s) 0.7571\n",
            "Epoch 00109 | Loss 0.2464 | Train.Rand 0.7937 | Valid.Rand 0.5560 | Time(s) 0.7571\n",
            "Epoch 00110 | Loss 0.2594 | Train.Rand 0.7873 | Valid.Rand 0.5365 | Time(s) 0.7569\n",
            "Epoch 00111 | Loss 0.2512 | Train.Rand 0.8025 | Valid.Rand 0.5410 | Time(s) 0.7570\n",
            "Epoch 00112 | Loss 0.2478 | Train.Rand 0.8176 | Valid.Rand 0.5283 | Time(s) 0.7570\n",
            "Epoch 00113 | Loss 0.2473 | Train.Rand 0.8080 | Valid.Rand 0.5172 | Time(s) 0.7568\n",
            "Epoch 00114 | Loss 0.2425 | Train.Rand 0.8124 | Valid.Rand 0.5406 | Time(s) 0.7568\n",
            "Epoch 00115 | Loss 0.2395 | Train.Rand 0.8311 | Valid.Rand 0.5373 | Time(s) 0.7566\n",
            "Epoch 00116 | Loss 0.2511 | Train.Rand 0.8184 | Valid.Rand 0.5484 | Time(s) 0.7566\n",
            "Epoch 00117 | Loss 0.2407 | Train.Rand 0.8057 | Valid.Rand 0.5384 | Time(s) 0.7566\n",
            "Epoch 00118 | Loss 0.2430 | Train.Rand 0.7989 | Valid.Rand 0.5267 | Time(s) 0.7566\n",
            "Epoch 00119 | Loss 0.2301 | Train.Rand 0.8191 | Valid.Rand 0.5243 | Time(s) 0.7567\n",
            "Epoch 00120 | Loss 0.2335 | Train.Rand 0.8259 | Valid.Rand 0.5249 | Time(s) 0.7568\n",
            "Epoch 00121 | Loss 0.2475 | Train.Rand 0.8168 | Valid.Rand 0.5389 | Time(s) 0.7571\n",
            "Epoch 00122 | Loss 0.2435 | Train.Rand 0.8196 | Valid.Rand 0.5281 | Time(s) 0.7574\n",
            "Epoch 00123 | Loss 0.2570 | Train.Rand 0.8081 | Valid.Rand 0.5243 | Time(s) 0.7575\n",
            "Epoch 00124 | Loss 0.2363 | Train.Rand 0.8023 | Valid.Rand 0.5100 | Time(s) 0.7580\n",
            "Epoch 00125 | Loss 0.2591 | Train.Rand 0.7750 | Valid.Rand 0.4998 | Time(s) 0.7578\n",
            "Epoch 00126 | Loss 0.2924 | Train.Rand 0.7682 | Valid.Rand 0.5258 | Time(s) 0.7578\n",
            "Epoch 00127 | Loss 0.2732 | Train.Rand 0.7878 | Valid.Rand 0.5223 | Time(s) 0.7576\n",
            "Epoch 00128 | Loss 0.2590 | Train.Rand 0.7959 | Valid.Rand 0.5421 | Time(s) 0.7576\n",
            "Epoch 00129 | Loss 0.2687 | Train.Rand 0.7937 | Valid.Rand 0.5425 | Time(s) 0.7575\n",
            "Epoch 00130 | Loss 0.2773 | Train.Rand 0.7567 | Valid.Rand 0.5372 | Time(s) 0.7574\n",
            "Epoch 00131 | Loss 0.2673 | Train.Rand 0.7862 | Valid.Rand 0.5353 | Time(s) 0.7572\n",
            "Epoch 00132 | Loss 0.2880 | Train.Rand 0.7627 | Valid.Rand 0.5069 | Time(s) 0.7570\n",
            "Epoch 00133 | Loss 0.2789 | Train.Rand 0.7558 | Valid.Rand 0.5316 | Time(s) 0.7571\n",
            "Epoch 00134 | Loss 0.2600 | Train.Rand 0.7741 | Valid.Rand 0.5309 | Time(s) 0.7568\n",
            "Epoch 00135 | Loss 0.2635 | Train.Rand 0.7806 | Valid.Rand 0.5192 | Time(s) 0.7567\n",
            "Epoch 00136 | Loss 0.2552 | Train.Rand 0.7777 | Valid.Rand 0.5422 | Time(s) 0.7565\n",
            "Epoch 00137 | Loss 0.2685 | Train.Rand 0.7693 | Valid.Rand 0.5364 | Time(s) 0.7564\n",
            "Epoch 00138 | Loss 0.2875 | Train.Rand 0.7586 | Valid.Rand 0.5290 | Time(s) 0.7564\n",
            "Epoch 00139 | Loss 0.2687 | Train.Rand 0.7815 | Valid.Rand 0.5468 | Time(s) 0.7567\n",
            "Epoch 00140 | Loss 0.2729 | Train.Rand 0.7677 | Valid.Rand 0.5523 | Time(s) 0.7566\n",
            "Epoch 00141 | Loss 0.2506 | Train.Rand 0.7921 | Valid.Rand 0.5550 | Time(s) 0.7566\n",
            "Epoch 00142 | Loss 0.2719 | Train.Rand 0.7846 | Valid.Rand 0.5351 | Time(s) 0.7567\n",
            "Epoch 00143 | Loss 0.2683 | Train.Rand 0.7736 | Valid.Rand 0.5278 | Time(s) 0.7567\n",
            "Epoch 00144 | Loss 0.2553 | Train.Rand 0.7918 | Valid.Rand 0.5048 | Time(s) 0.7568\n",
            "Epoch 00145 | Loss 0.2766 | Train.Rand 0.7817 | Valid.Rand 0.5168 | Time(s) 0.7568\n",
            "Epoch 00146 | Loss 0.2545 | Train.Rand 0.7737 | Valid.Rand 0.5419 | Time(s) 0.7568\n",
            "Epoch 00147 | Loss 0.2610 | Train.Rand 0.7529 | Valid.Rand 0.5464 | Time(s) 0.7568\n",
            "Epoch 00148 | Loss 0.2521 | Train.Rand 0.7813 | Valid.Rand 0.5632 | Time(s) 0.7568\n",
            "Epoch 00149 | Loss 0.2377 | Train.Rand 0.7824 | Valid.Rand 0.5432 | Time(s) 0.7567\n",
            "Epoch 00150 | Loss 0.2428 | Train.Rand 0.7866 | Valid.Rand 0.5382 | Time(s) 0.7567\n",
            "Epoch 00151 | Loss 0.2434 | Train.Rand 0.8041 | Valid.Rand 0.5347 | Time(s) 0.7567\n",
            "Epoch 00152 | Loss 0.2411 | Train.Rand 0.8007 | Valid.Rand 0.5173 | Time(s) 0.7569\n",
            "Epoch 00153 | Loss 0.2538 | Train.Rand 0.7994 | Valid.Rand 0.5314 | Time(s) 0.7570\n",
            "Epoch 00154 | Loss 0.2285 | Train.Rand 0.8164 | Valid.Rand 0.5296 | Time(s) 0.7570\n",
            "Epoch 00155 | Loss 0.2622 | Train.Rand 0.7911 | Valid.Rand 0.4952 | Time(s) 0.7571\n",
            "Epoch 00156 | Loss 0.2547 | Train.Rand 0.7703 | Valid.Rand 0.5249 | Time(s) 0.7570\n",
            "Epoch 00157 | Loss 0.2420 | Train.Rand 0.7676 | Valid.Rand 0.5288 | Time(s) 0.7571\n",
            "Epoch 00158 | Loss 0.2466 | Train.Rand 0.7908 | Valid.Rand 0.5401 | Time(s) 0.7570\n",
            "Epoch 00159 | Loss 0.2524 | Train.Rand 0.8042 | Valid.Rand 0.5346 | Time(s) 0.7570\n",
            "Epoch 00160 | Loss 0.2485 | Train.Rand 0.7985 | Valid.Rand 0.5404 | Time(s) 0.7570\n",
            "Epoch 00161 | Loss 0.2406 | Train.Rand 0.8123 | Valid.Rand 0.5364 | Time(s) 0.7570\n",
            "Epoch 00162 | Loss 0.2360 | Train.Rand 0.7950 | Valid.Rand 0.5141 | Time(s) 0.7569\n",
            "Epoch 00163 | Loss 0.2388 | Train.Rand 0.7960 | Valid.Rand 0.5268 | Time(s) 0.7569\n",
            "Epoch 00164 | Loss 0.2443 | Train.Rand 0.7939 | Valid.Rand 0.5249 | Time(s) 0.7570\n",
            "Epoch 00165 | Loss 0.2479 | Train.Rand 0.8022 | Valid.Rand 0.5353 | Time(s) 0.7573\n",
            "Epoch 00166 | Loss 0.2309 | Train.Rand 0.8133 | Valid.Rand 0.5446 | Time(s) 0.7574\n",
            "Epoch 00167 | Loss 0.2408 | Train.Rand 0.7996 | Valid.Rand 0.5358 | Time(s) 0.7577\n",
            "Epoch 00168 | Loss 0.2429 | Train.Rand 0.7892 | Valid.Rand 0.5278 | Time(s) 0.7577\n",
            "Epoch 00169 | Loss 0.2423 | Train.Rand 0.7949 | Valid.Rand 0.5421 | Time(s) 0.7576\n",
            "Epoch 00170 | Loss 0.2370 | Train.Rand 0.7900 | Valid.Rand 0.5380 | Time(s) 0.7575\n",
            "Epoch 00171 | Loss 0.2541 | Train.Rand 0.7960 | Valid.Rand 0.5299 | Time(s) 0.7575\n",
            "Epoch 00172 | Loss 0.2406 | Train.Rand 0.7809 | Valid.Rand 0.5362 | Time(s) 0.7575\n",
            "Epoch 00173 | Loss 0.2372 | Train.Rand 0.7865 | Valid.Rand 0.5342 | Time(s) 0.7575\n",
            "Epoch 00174 | Loss 0.2464 | Train.Rand 0.7982 | Valid.Rand 0.5320 | Time(s) 0.7574\n",
            "Epoch 00175 | Loss 0.2337 | Train.Rand 0.8023 | Valid.Rand 0.5266 | Time(s) 0.7574\n",
            "Epoch 00176 | Loss 0.2377 | Train.Rand 0.8266 | Valid.Rand 0.5117 | Time(s) 0.7573\n",
            "Epoch 00177 | Loss 0.2293 | Train.Rand 0.8216 | Valid.Rand 0.5262 | Time(s) 0.7573\n",
            "Epoch 00178 | Loss 0.2380 | Train.Rand 0.8028 | Valid.Rand 0.5247 | Time(s) 0.7573\n",
            "Epoch 00179 | Loss 0.2437 | Train.Rand 0.8161 | Valid.Rand 0.5140 | Time(s) 0.7575\n",
            "Epoch 00180 | Loss 0.2435 | Train.Rand 0.8335 | Valid.Rand 0.5147 | Time(s) 0.7575\n",
            "Epoch 00181 | Loss 0.2674 | Train.Rand 0.7828 | Valid.Rand 0.5248 | Time(s) 0.7575\n",
            "Epoch 00182 | Loss 0.3062 | Train.Rand 0.7370 | Valid.Rand 0.4980 | Time(s) 0.7574\n",
            "Epoch 00183 | Loss 0.3197 | Train.Rand 0.7493 | Valid.Rand 0.5291 | Time(s) 0.7574\n",
            "Epoch 00184 | Loss 0.2562 | Train.Rand 0.7750 | Valid.Rand 0.5317 | Time(s) 0.7574\n",
            "Epoch 00185 | Loss 0.2507 | Train.Rand 0.7962 | Valid.Rand 0.4934 | Time(s) 0.7573\n",
            "Epoch 00186 | Loss 0.2410 | Train.Rand 0.8171 | Valid.Rand 0.5275 | Time(s) 0.7573\n",
            "Epoch 00187 | Loss 0.2455 | Train.Rand 0.8054 | Valid.Rand 0.5274 | Time(s) 0.7572\n",
            "Epoch 00188 | Loss 0.2366 | Train.Rand 0.8023 | Valid.Rand 0.5314 | Time(s) 0.7571\n",
            "Epoch 00189 | Loss 0.2466 | Train.Rand 0.7927 | Valid.Rand 0.5195 | Time(s) 0.7570\n",
            "Epoch 00190 | Loss 0.2372 | Train.Rand 0.7978 | Valid.Rand 0.5396 | Time(s) 0.7569\n",
            "Epoch 00191 | Loss 0.2526 | Train.Rand 0.7944 | Valid.Rand 0.5313 | Time(s) 0.7568\n",
            "Epoch 00192 | Loss 0.2572 | Train.Rand 0.7885 | Valid.Rand 0.5212 | Time(s) 0.7567\n",
            "Epoch 00193 | Loss 0.2529 | Train.Rand 0.7868 | Valid.Rand 0.5237 | Time(s) 0.7566\n",
            "Epoch 00194 | Loss 0.2278 | Train.Rand 0.8004 | Valid.Rand 0.5342 | Time(s) 0.7566\n",
            "Epoch 00195 | Loss 0.2368 | Train.Rand 0.8053 | Valid.Rand 0.5405 | Time(s) 0.7565\n",
            "Epoch 00196 | Loss 0.2400 | Train.Rand 0.8027 | Valid.Rand 0.5287 | Time(s) 0.7564\n",
            "Epoch 00197 | Loss 0.2397 | Train.Rand 0.8227 | Valid.Rand 0.5388 | Time(s) 0.7563\n",
            "Epoch 00198 | Loss 0.2340 | Train.Rand 0.8233 | Valid.Rand 0.5336 | Time(s) 0.7562\n",
            "Epoch 00199 | Loss 0.2436 | Train.Rand 0.8053 | Valid.Rand 0.5373 | Time(s) 0.7562\n",
            "Epoch 00200 | Loss 0.2211 | Train.Rand 0.8183 | Valid.Rand 0.5245 | Time(s) 0.7561\n",
            "Epoch 00201 | Loss 0.2470 | Train.Rand 0.8185 | Valid.Rand 0.5142 | Time(s) 0.7560\n",
            "Epoch 00202 | Loss 0.2437 | Train.Rand 0.7855 | Valid.Rand 0.5238 | Time(s) 0.7561\n",
            "Epoch 00203 | Loss 0.2336 | Train.Rand 0.8290 | Valid.Rand 0.5292 | Time(s) 0.7560\n",
            "Epoch 00204 | Loss 0.2314 | Train.Rand 0.8180 | Valid.Rand 0.5240 | Time(s) 0.7559\n",
            "Epoch 00205 | Loss 0.2422 | Train.Rand 0.7881 | Valid.Rand 0.5117 | Time(s) 0.7558\n",
            "Epoch 00206 | Loss 0.2268 | Train.Rand 0.8169 | Valid.Rand 0.5204 | Time(s) 0.7557\n",
            "Epoch 00207 | Loss 0.2619 | Train.Rand 0.7789 | Valid.Rand 0.4793 | Time(s) 0.7556\n",
            "Epoch 00208 | Loss 0.2755 | Train.Rand 0.7878 | Valid.Rand 0.5029 | Time(s) 0.7555\n",
            "Epoch 00209 | Loss 0.2320 | Train.Rand 0.8134 | Valid.Rand 0.5058 | Time(s) 0.7553\n",
            "Epoch 00210 | Loss 0.2853 | Train.Rand 0.7687 | Valid.Rand 0.5211 | Time(s) 0.7553\n",
            "Epoch 00211 | Loss 0.2577 | Train.Rand 0.7671 | Valid.Rand 0.5447 | Time(s) 0.7551\n",
            "Epoch 00212 | Loss 0.2582 | Train.Rand 0.7812 | Valid.Rand 0.5231 | Time(s) 0.7550\n",
            "Epoch 00213 | Loss 0.2536 | Train.Rand 0.7808 | Valid.Rand 0.5118 | Time(s) 0.7549\n",
            "Epoch 00214 | Loss 0.2479 | Train.Rand 0.8007 | Valid.Rand 0.5226 | Time(s) 0.7548\n",
            "Epoch 00215 | Loss 0.2581 | Train.Rand 0.7701 | Valid.Rand 0.5417 | Time(s) 0.7547\n",
            "Epoch 00216 | Loss 0.2581 | Train.Rand 0.7816 | Valid.Rand 0.5550 | Time(s) 0.7545\n",
            "Epoch 00217 | Loss 0.2560 | Train.Rand 0.7861 | Valid.Rand 0.5205 | Time(s) 0.7544\n",
            "Epoch 00218 | Loss 0.2487 | Train.Rand 0.7749 | Valid.Rand 0.5376 | Time(s) 0.7544\n",
            "Epoch 00219 | Loss 0.2661 | Train.Rand 0.7934 | Valid.Rand 0.5395 | Time(s) 0.7543\n",
            "Epoch 00220 | Loss 0.2593 | Train.Rand 0.7848 | Valid.Rand 0.5144 | Time(s) 0.7542\n",
            "Epoch 00221 | Loss 0.2617 | Train.Rand 0.7901 | Valid.Rand 0.5238 | Time(s) 0.7542\n",
            "Epoch 00222 | Loss 0.2487 | Train.Rand 0.8021 | Valid.Rand 0.5219 | Time(s) 0.7541\n",
            "Epoch 00223 | Loss 0.2402 | Train.Rand 0.8236 | Valid.Rand 0.5145 | Time(s) 0.7541\n",
            "Epoch 00224 | Loss 0.2536 | Train.Rand 0.8038 | Valid.Rand 0.5300 | Time(s) 0.7540\n",
            "Epoch 00225 | Loss 0.2378 | Train.Rand 0.8168 | Valid.Rand 0.5387 | Time(s) 0.7541\n",
            "Epoch 00226 | Loss 0.2523 | Train.Rand 0.8163 | Valid.Rand 0.5103 | Time(s) 0.7541\n",
            "Epoch 00227 | Loss 0.2529 | Train.Rand 0.8035 | Valid.Rand 0.5400 | Time(s) 0.7542\n",
            "Epoch 00228 | Loss 0.2350 | Train.Rand 0.8020 | Valid.Rand 0.5430 | Time(s) 0.7542\n",
            "Epoch 00229 | Loss 0.2423 | Train.Rand 0.8076 | Valid.Rand 0.5267 | Time(s) 0.7542\n",
            "Epoch 00230 | Loss 0.2347 | Train.Rand 0.8024 | Valid.Rand 0.5256 | Time(s) 0.7541\n",
            "Epoch 00231 | Loss 0.2495 | Train.Rand 0.8105 | Valid.Rand 0.5269 | Time(s) 0.7541\n",
            "Epoch 00232 | Loss 0.2328 | Train.Rand 0.8062 | Valid.Rand 0.5231 | Time(s) 0.7542\n",
            "Epoch 00233 | Loss 0.2483 | Train.Rand 0.8084 | Valid.Rand 0.5380 | Time(s) 0.7542\n",
            "Epoch 00234 | Loss 0.2549 | Train.Rand 0.7969 | Valid.Rand 0.5455 | Time(s) 0.7543\n",
            "Epoch 00235 | Loss 0.2353 | Train.Rand 0.8112 | Valid.Rand 0.5458 | Time(s) 0.7543\n",
            "Epoch 00236 | Loss 0.2443 | Train.Rand 0.8065 | Valid.Rand 0.5342 | Time(s) 0.7542\n",
            "Epoch 00237 | Loss 0.2551 | Train.Rand 0.7997 | Valid.Rand 0.5175 | Time(s) 0.7543\n",
            "Epoch 00238 | Loss 0.2394 | Train.Rand 0.8164 | Valid.Rand 0.5220 | Time(s) 0.7543\n",
            "Epoch 00239 | Loss 0.2329 | Train.Rand 0.8183 | Valid.Rand 0.5213 | Time(s) 0.7543\n",
            "Epoch 00240 | Loss 0.2383 | Train.Rand 0.8160 | Valid.Rand 0.5190 | Time(s) 0.7544\n",
            "Epoch 00241 | Loss 0.2363 | Train.Rand 0.8248 | Valid.Rand 0.5138 | Time(s) 0.7544\n",
            "Epoch 00242 | Loss 0.2318 | Train.Rand 0.8214 | Valid.Rand 0.5291 | Time(s) 0.7544\n",
            "Epoch 00243 | Loss 0.2581 | Train.Rand 0.8052 | Valid.Rand 0.5303 | Time(s) 0.7543\n",
            "Epoch 00244 | Loss 0.2545 | Train.Rand 0.7971 | Valid.Rand 0.5239 | Time(s) 0.7543\n",
            "Epoch 00245 | Loss 0.2616 | Train.Rand 0.7762 | Valid.Rand 0.5428 | Time(s) 0.7544\n",
            "Epoch 00246 | Loss 0.2490 | Train.Rand 0.8061 | Valid.Rand 0.5316 | Time(s) 0.7544\n",
            "Epoch 00247 | Loss 0.2922 | Train.Rand 0.7376 | Valid.Rand 0.4688 | Time(s) 0.7544\n",
            "Epoch 00248 | Loss 0.3105 | Train.Rand 0.7310 | Valid.Rand 0.5212 | Time(s) 0.7545\n",
            "Epoch 00249 | Loss 0.2608 | Train.Rand 0.7679 | Valid.Rand 0.5328 | Time(s) 0.7544\n",
            "Epoch 00250 | Loss 0.2950 | Train.Rand 0.7547 | Valid.Rand 0.4952 | Time(s) 0.7544\n",
            "Epoch 00251 | Loss 0.2686 | Train.Rand 0.7692 | Valid.Rand 0.5273 | Time(s) 0.7543\n",
            "Epoch 00252 | Loss 0.2781 | Train.Rand 0.7521 | Valid.Rand 0.5221 | Time(s) 0.7543\n",
            "Epoch 00253 | Loss 0.2481 | Train.Rand 0.8018 | Valid.Rand 0.5401 | Time(s) 0.7544\n",
            "Epoch 00254 | Loss 0.2610 | Train.Rand 0.7927 | Valid.Rand 0.5211 | Time(s) 0.7546\n",
            "Epoch 00255 | Loss 0.2648 | Train.Rand 0.7900 | Valid.Rand 0.5401 | Time(s) 0.7548\n",
            "Epoch 00256 | Loss 0.2514 | Train.Rand 0.7914 | Valid.Rand 0.5406 | Time(s) 0.7549\n",
            "Epoch 00257 | Loss 0.2724 | Train.Rand 0.7758 | Valid.Rand 0.5243 | Time(s) 0.7550\n",
            "Epoch 00258 | Loss 0.2495 | Train.Rand 0.8054 | Valid.Rand 0.5399 | Time(s) 0.7549\n",
            "Epoch 00259 | Loss 0.2477 | Train.Rand 0.7975 | Valid.Rand 0.5254 | Time(s) 0.7549\n",
            "Epoch 00260 | Loss 0.2468 | Train.Rand 0.8014 | Valid.Rand 0.5291 | Time(s) 0.7549\n",
            "Epoch 00261 | Loss 0.2399 | Train.Rand 0.8106 | Valid.Rand 0.5289 | Time(s) 0.7549\n",
            "Epoch 00262 | Loss 0.2481 | Train.Rand 0.7881 | Valid.Rand 0.5456 | Time(s) 0.7549\n",
            "Epoch 00263 | Loss 0.2495 | Train.Rand 0.7995 | Valid.Rand 0.5408 | Time(s) 0.7549\n",
            "Epoch 00264 | Loss 0.2433 | Train.Rand 0.8097 | Valid.Rand 0.5259 | Time(s) 0.7549\n",
            "Epoch 00265 | Loss 0.2396 | Train.Rand 0.8127 | Valid.Rand 0.5284 | Time(s) 0.7550\n",
            "Epoch 00266 | Loss 0.2464 | Train.Rand 0.8099 | Valid.Rand 0.5180 | Time(s) 0.7551\n",
            "Epoch 00267 | Loss 0.2361 | Train.Rand 0.8250 | Valid.Rand 0.5273 | Time(s) 0.7553\n",
            "Epoch 00268 | Loss 0.2433 | Train.Rand 0.8324 | Valid.Rand 0.5553 | Time(s) 0.7554\n",
            "Epoch 00269 | Loss 0.2406 | Train.Rand 0.8265 | Valid.Rand 0.5497 | Time(s) 0.7554\n",
            "Epoch 00270 | Loss 0.2315 | Train.Rand 0.8261 | Valid.Rand 0.5310 | Time(s) 0.7553\n",
            "Epoch 00271 | Loss 0.2392 | Train.Rand 0.8243 | Valid.Rand 0.5199 | Time(s) 0.7554\n",
            "Epoch 00272 | Loss 0.2287 | Train.Rand 0.8298 | Valid.Rand 0.5284 | Time(s) 0.7553\n",
            "Epoch 00273 | Loss 0.2337 | Train.Rand 0.8225 | Valid.Rand 0.5280 | Time(s) 0.7553\n",
            "Epoch 00274 | Loss 0.2253 | Train.Rand 0.8330 | Valid.Rand 0.5265 | Time(s) 0.7553\n",
            "Epoch 00275 | Loss 0.2441 | Train.Rand 0.8387 | Valid.Rand 0.5227 | Time(s) 0.7554\n",
            "Epoch 00276 | Loss 0.2321 | Train.Rand 0.8251 | Valid.Rand 0.5353 | Time(s) 0.7553\n",
            "Epoch 00277 | Loss 0.2317 | Train.Rand 0.8198 | Valid.Rand 0.5275 | Time(s) 0.7555\n",
            "Epoch 00278 | Loss 0.2400 | Train.Rand 0.8066 | Valid.Rand 0.5063 | Time(s) 0.7555\n",
            "Epoch 00279 | Loss 0.2440 | Train.Rand 0.8060 | Valid.Rand 0.5234 | Time(s) 0.7557\n",
            "Epoch 00280 | Loss 0.2411 | Train.Rand 0.8046 | Valid.Rand 0.5244 | Time(s) 0.7558\n",
            "Epoch 00281 | Loss 0.2379 | Train.Rand 0.8171 | Valid.Rand 0.5325 | Time(s) 0.7557\n",
            "Epoch 00282 | Loss 0.2464 | Train.Rand 0.8049 | Valid.Rand 0.5240 | Time(s) 0.7556\n",
            "Epoch 00283 | Loss 0.2317 | Train.Rand 0.8099 | Valid.Rand 0.5344 | Time(s) 0.7555\n",
            "Epoch 00284 | Loss 0.2356 | Train.Rand 0.8162 | Valid.Rand 0.5266 | Time(s) 0.7554\n",
            "Epoch 00285 | Loss 0.2297 | Train.Rand 0.8024 | Valid.Rand 0.5290 | Time(s) 0.7554\n",
            "Epoch 00286 | Loss 0.2336 | Train.Rand 0.8207 | Valid.Rand 0.5184 | Time(s) 0.7553\n",
            "Epoch 00287 | Loss 0.2337 | Train.Rand 0.8283 | Valid.Rand 0.5286 | Time(s) 0.7553\n",
            "Epoch 00288 | Loss 0.2370 | Train.Rand 0.8024 | Valid.Rand 0.5259 | Time(s) 0.7554\n",
            "Epoch 00289 | Loss 0.2595 | Train.Rand 0.8088 | Valid.Rand 0.5029 | Time(s) 0.7554\n",
            "Epoch 00290 | Loss 0.2629 | Train.Rand 0.7539 | Valid.Rand 0.5331 | Time(s) 0.7553\n",
            "Epoch 00291 | Loss 0.2509 | Train.Rand 0.7956 | Valid.Rand 0.5286 | Time(s) 0.7552\n",
            "Epoch 00292 | Loss 0.2706 | Train.Rand 0.7837 | Valid.Rand 0.5017 | Time(s) 0.7551\n",
            "Epoch 00293 | Loss 0.2594 | Train.Rand 0.7759 | Valid.Rand 0.5127 | Time(s) 0.7550\n",
            "Epoch 00294 | Loss 0.2587 | Train.Rand 0.7803 | Valid.Rand 0.5264 | Time(s) 0.7550\n",
            "Epoch 00295 | Loss 0.2829 | Train.Rand 0.7932 | Valid.Rand 0.5054 | Time(s) 0.7551\n",
            "Epoch 00296 | Loss 0.2517 | Train.Rand 0.7916 | Valid.Rand 0.5208 | Time(s) 0.7550\n",
            "Epoch 00297 | Loss 0.2433 | Train.Rand 0.7957 | Valid.Rand 0.5252 | Time(s) 0.7550\n",
            "Epoch 00298 | Loss 0.2629 | Train.Rand 0.7772 | Valid.Rand 0.5193 | Time(s) 0.7549\n",
            "Epoch 00299 | Loss 0.2631 | Train.Rand 0.7806 | Valid.Rand 0.5251 | Time(s) 0.7549\n",
            "Epoch 00300 | Loss 0.2508 | Train.Rand 0.8023 | Valid.Rand 0.5353 | Time(s) 0.7549\n",
            "Epoch 00301 | Loss 0.2522 | Train.Rand 0.7954 | Valid.Rand 0.5352 | Time(s) 0.7548\n",
            "Epoch 00302 | Loss 0.2561 | Train.Rand 0.7824 | Valid.Rand 0.5385 | Time(s) 0.7548\n",
            "Epoch 00303 | Loss 0.2679 | Train.Rand 0.7984 | Valid.Rand 0.5238 | Time(s) 0.7548\n",
            "Epoch 00304 | Loss 0.2579 | Train.Rand 0.8123 | Valid.Rand 0.5244 | Time(s) 0.7549\n",
            "Epoch 00305 | Loss 0.2437 | Train.Rand 0.7866 | Valid.Rand 0.5320 | Time(s) 0.7550\n",
            "Epoch 00306 | Loss 0.2478 | Train.Rand 0.7852 | Valid.Rand 0.5301 | Time(s) 0.7551\n",
            "Epoch 00307 | Loss 0.2446 | Train.Rand 0.7920 | Valid.Rand 0.5288 | Time(s) 0.7551\n",
            "Epoch 00308 | Loss 0.2488 | Train.Rand 0.8002 | Valid.Rand 0.5432 | Time(s) 0.7550\n",
            "Epoch 00309 | Loss 0.2449 | Train.Rand 0.8197 | Valid.Rand 0.5335 | Time(s) 0.7550\n",
            "Epoch 00310 | Loss 0.2444 | Train.Rand 0.8133 | Valid.Rand 0.5213 | Time(s) 0.7549\n",
            "Epoch 00311 | Loss 0.2355 | Train.Rand 0.8037 | Valid.Rand 0.5225 | Time(s) 0.7548\n",
            "Epoch 00312 | Loss 0.2465 | Train.Rand 0.8000 | Valid.Rand 0.5196 | Time(s) 0.7548\n",
            "Epoch 00313 | Loss 0.2510 | Train.Rand 0.8184 | Valid.Rand 0.5165 | Time(s) 0.7548\n",
            "Epoch 00314 | Loss 0.2302 | Train.Rand 0.8350 | Valid.Rand 0.5197 | Time(s) 0.7548\n",
            "Epoch 00315 | Loss 0.2382 | Train.Rand 0.8210 | Valid.Rand 0.5494 | Time(s) 0.7548\n",
            "Epoch 00316 | Loss 0.2336 | Train.Rand 0.8235 | Valid.Rand 0.5429 | Time(s) 0.7550\n",
            "Epoch 00317 | Loss 0.2321 | Train.Rand 0.8107 | Valid.Rand 0.5368 | Time(s) 0.7550\n",
            "Epoch 00318 | Loss 0.2326 | Train.Rand 0.8102 | Valid.Rand 0.5230 | Time(s) 0.7552\n",
            "Epoch 00319 | Loss 0.2337 | Train.Rand 0.8334 | Valid.Rand 0.5270 | Time(s) 0.7554\n",
            "Epoch 00320 | Loss 0.2371 | Train.Rand 0.8330 | Valid.Rand 0.5275 | Time(s) 0.7555\n",
            "Epoch 00321 | Loss 0.2342 | Train.Rand 0.8209 | Valid.Rand 0.5217 | Time(s) 0.7554\n",
            "Epoch 00322 | Loss 0.2271 | Train.Rand 0.8380 | Valid.Rand 0.5282 | Time(s) 0.7554\n",
            "Epoch 00323 | Loss 0.2366 | Train.Rand 0.8412 | Valid.Rand 0.5288 | Time(s) 0.7555\n",
            "Epoch 00324 | Loss 0.2230 | Train.Rand 0.8302 | Valid.Rand 0.5344 | Time(s) 0.7555\n",
            "Epoch 00325 | Loss 0.2332 | Train.Rand 0.8374 | Valid.Rand 0.5349 | Time(s) 0.7555\n",
            "Epoch 00326 | Loss 0.2478 | Train.Rand 0.7997 | Valid.Rand 0.5347 | Time(s) 0.7555\n",
            "Epoch 00327 | Loss 0.2547 | Train.Rand 0.7859 | Valid.Rand 0.5077 | Time(s) 0.7555\n",
            "Epoch 00328 | Loss 0.2681 | Train.Rand 0.7746 | Valid.Rand 0.5182 | Time(s) 0.7555\n",
            "Epoch 00329 | Loss 0.2313 | Train.Rand 0.8162 | Valid.Rand 0.5265 | Time(s) 0.7555\n",
            "Epoch 00330 | Loss 0.2568 | Train.Rand 0.8100 | Valid.Rand 0.5154 | Time(s) 0.7555\n",
            "Epoch 00331 | Loss 0.2700 | Train.Rand 0.7845 | Valid.Rand 0.5022 | Time(s) 0.7555\n",
            "Epoch 00332 | Loss 0.2424 | Train.Rand 0.7943 | Valid.Rand 0.5283 | Time(s) 0.7554\n",
            "Epoch 00333 | Loss 0.2725 | Train.Rand 0.7677 | Valid.Rand 0.5140 | Time(s) 0.7555\n",
            "Epoch 00334 | Loss 0.2743 | Train.Rand 0.7927 | Valid.Rand 0.5385 | Time(s) 0.7555\n",
            "Epoch 00335 | Loss 0.2481 | Train.Rand 0.8060 | Valid.Rand 0.5139 | Time(s) 0.7555\n",
            "Epoch 00336 | Loss 0.2505 | Train.Rand 0.8026 | Valid.Rand 0.5258 | Time(s) 0.7555\n",
            "Epoch 00337 | Loss 0.2468 | Train.Rand 0.7962 | Valid.Rand 0.5442 | Time(s) 0.7555\n",
            "Epoch 00338 | Loss 0.2374 | Train.Rand 0.8020 | Valid.Rand 0.5391 | Time(s) 0.7555\n",
            "Epoch 00339 | Loss 0.2471 | Train.Rand 0.8049 | Valid.Rand 0.5261 | Time(s) 0.7556\n",
            "Epoch 00340 | Loss 0.2358 | Train.Rand 0.8048 | Valid.Rand 0.5336 | Time(s) 0.7556\n",
            "Epoch 00341 | Loss 0.2569 | Train.Rand 0.8003 | Valid.Rand 0.5297 | Time(s) 0.7556\n",
            "Epoch 00342 | Loss 0.2385 | Train.Rand 0.8058 | Valid.Rand 0.5304 | Time(s) 0.7557\n",
            "Epoch 00343 | Loss 0.2436 | Train.Rand 0.7936 | Valid.Rand 0.5121 | Time(s) 0.7557\n",
            "Epoch 00344 | Loss 0.2380 | Train.Rand 0.7884 | Valid.Rand 0.5233 | Time(s) 0.7557\n",
            "Epoch 00345 | Loss 0.2364 | Train.Rand 0.8111 | Valid.Rand 0.5303 | Time(s) 0.7557\n",
            "Epoch 00346 | Loss 0.2391 | Train.Rand 0.8140 | Valid.Rand 0.4942 | Time(s) 0.7557\n",
            "Epoch 00347 | Loss 0.2512 | Train.Rand 0.8013 | Valid.Rand 0.5191 | Time(s) 0.7557\n",
            "Epoch 00348 | Loss 0.2356 | Train.Rand 0.8186 | Valid.Rand 0.5383 | Time(s) 0.7557\n",
            "Epoch 00349 | Loss 0.2513 | Train.Rand 0.7979 | Valid.Rand 0.5130 | Time(s) 0.7557\n",
            "Epoch 00350 | Loss 0.2635 | Train.Rand 0.7863 | Valid.Rand 0.5123 | Time(s) 0.7558\n",
            "Epoch 00351 | Loss 0.2441 | Train.Rand 0.8059 | Valid.Rand 0.5234 | Time(s) 0.7560\n",
            "Epoch 00352 | Loss 0.2711 | Train.Rand 0.7540 | Valid.Rand 0.5025 | Time(s) 0.7561\n",
            "Epoch 00353 | Loss 0.2476 | Train.Rand 0.7797 | Valid.Rand 0.5358 | Time(s) 0.7562\n",
            "Epoch 00354 | Loss 0.2502 | Train.Rand 0.7946 | Valid.Rand 0.5285 | Time(s) 0.7563\n",
            "Epoch 00355 | Loss 0.2449 | Train.Rand 0.8129 | Valid.Rand 0.5253 | Time(s) 0.7563\n",
            "Epoch 00356 | Loss 0.2400 | Train.Rand 0.8294 | Valid.Rand 0.5188 | Time(s) 0.7564\n",
            "Epoch 00357 | Loss 0.2432 | Train.Rand 0.7974 | Valid.Rand 0.5221 | Time(s) 0.7563\n",
            "Epoch 00358 | Loss 0.2392 | Train.Rand 0.8007 | Valid.Rand 0.5272 | Time(s) 0.7564\n",
            "Epoch 00359 | Loss 0.2519 | Train.Rand 0.8026 | Valid.Rand 0.5285 | Time(s) 0.7564\n",
            "Epoch 00360 | Loss 0.2478 | Train.Rand 0.8057 | Valid.Rand 0.5463 | Time(s) 0.7563\n",
            "Epoch 00361 | Loss 0.2341 | Train.Rand 0.8041 | Valid.Rand 0.5549 | Time(s) 0.7563\n",
            "Epoch 00362 | Loss 0.2423 | Train.Rand 0.8009 | Valid.Rand 0.5353 | Time(s) 0.7564\n",
            "Epoch 00363 | Loss 0.2482 | Train.Rand 0.8244 | Valid.Rand 0.5302 | Time(s) 0.7564\n",
            "Epoch 00364 | Loss 0.2369 | Train.Rand 0.8250 | Valid.Rand 0.5201 | Time(s) 0.7565\n",
            "Epoch 00365 | Loss 0.2323 | Train.Rand 0.8075 | Valid.Rand 0.5357 | Time(s) 0.7565\n",
            "Epoch 00366 | Loss 0.2314 | Train.Rand 0.8051 | Valid.Rand 0.5503 | Time(s) 0.7566\n",
            "Epoch 00367 | Loss 0.2231 | Train.Rand 0.8168 | Valid.Rand 0.5355 | Time(s) 0.7567\n",
            "Epoch 00368 | Loss 0.2298 | Train.Rand 0.8306 | Valid.Rand 0.5135 | Time(s) 0.7569\n",
            "Epoch 00369 | Loss 0.2248 | Train.Rand 0.8209 | Valid.Rand 0.5118 | Time(s) 0.7568\n",
            "Epoch 00370 | Loss 0.2235 | Train.Rand 0.8129 | Valid.Rand 0.5217 | Time(s) 0.7568\n",
            "Epoch 00371 | Loss 0.2289 | Train.Rand 0.7981 | Valid.Rand 0.5281 | Time(s) 0.7568\n",
            "Epoch 00372 | Loss 0.2504 | Train.Rand 0.8033 | Valid.Rand 0.5172 | Time(s) 0.7568\n",
            "Epoch 00373 | Loss 0.2284 | Train.Rand 0.8248 | Valid.Rand 0.5215 | Time(s) 0.7568\n",
            "Epoch 00374 | Loss 0.2271 | Train.Rand 0.8274 | Valid.Rand 0.5227 | Time(s) 0.7568\n",
            "Epoch 00375 | Loss 0.2168 | Train.Rand 0.8342 | Valid.Rand 0.5238 | Time(s) 0.7567\n",
            "Epoch 00376 | Loss 0.2509 | Train.Rand 0.8067 | Valid.Rand 0.5219 | Time(s) 0.7568\n",
            "Epoch 00377 | Loss 0.2309 | Train.Rand 0.8240 | Valid.Rand 0.5378 | Time(s) 0.7567\n",
            "Epoch 00378 | Loss 0.2306 | Train.Rand 0.8187 | Valid.Rand 0.5326 | Time(s) 0.7567\n",
            "Epoch 00379 | Loss 0.2400 | Train.Rand 0.8285 | Valid.Rand 0.5292 | Time(s) 0.7567\n",
            "Epoch 00380 | Loss 0.2388 | Train.Rand 0.8330 | Valid.Rand 0.5114 | Time(s) 0.7566\n",
            "Epoch 00381 | Loss 0.2358 | Train.Rand 0.8223 | Valid.Rand 0.5314 | Time(s) 0.7566\n",
            "Epoch 00382 | Loss 0.2389 | Train.Rand 0.8232 | Valid.Rand 0.5426 | Time(s) 0.7566\n",
            "Epoch 00383 | Loss 0.2331 | Train.Rand 0.8161 | Valid.Rand 0.5294 | Time(s) 0.7567\n",
            "Epoch 00384 | Loss 0.2453 | Train.Rand 0.8253 | Valid.Rand 0.5200 | Time(s) 0.7567\n",
            "Epoch 00385 | Loss 0.2520 | Train.Rand 0.8219 | Valid.Rand 0.5165 | Time(s) 0.7568\n",
            "Epoch 00386 | Loss 0.3194 | Train.Rand 0.7353 | Valid.Rand 0.5067 | Time(s) 0.7569\n",
            "Epoch 00387 | Loss 0.2537 | Train.Rand 0.8074 | Valid.Rand 0.5185 | Time(s) 0.7570\n",
            "Epoch 00388 | Loss 0.2725 | Train.Rand 0.7805 | Valid.Rand 0.5022 | Time(s) 0.7571\n",
            "Epoch 00389 | Loss 0.3143 | Train.Rand 0.7322 | Valid.Rand 0.4946 | Time(s) 0.7570\n",
            "Epoch 00390 | Loss 0.2532 | Train.Rand 0.7733 | Valid.Rand 0.5336 | Time(s) 0.7570\n",
            "Epoch 00391 | Loss 0.2683 | Train.Rand 0.7990 | Valid.Rand 0.4961 | Time(s) 0.7570\n",
            "Epoch 00392 | Loss 0.2527 | Train.Rand 0.8124 | Valid.Rand 0.5046 | Time(s) 0.7571\n",
            "Epoch 00393 | Loss 0.2636 | Train.Rand 0.7951 | Valid.Rand 0.5320 | Time(s) 0.7571\n",
            "Epoch 00394 | Loss 0.2625 | Train.Rand 0.7882 | Valid.Rand 0.5322 | Time(s) 0.7572\n",
            "Epoch 00395 | Loss 0.2472 | Train.Rand 0.8106 | Valid.Rand 0.5269 | Time(s) 0.7573\n",
            "Epoch 00396 | Loss 0.2528 | Train.Rand 0.8009 | Valid.Rand 0.5339 | Time(s) 0.7573\n",
            "Epoch 00397 | Loss 0.2447 | Train.Rand 0.7993 | Valid.Rand 0.5391 | Time(s) 0.7573\n",
            "Epoch 00398 | Loss 0.2358 | Train.Rand 0.8180 | Valid.Rand 0.5388 | Time(s) 0.7572\n",
            "Epoch 00399 | Loss 0.2476 | Train.Rand 0.8107 | Valid.Rand 0.5308 | Time(s) 0.7572\n",
            "Epoch 00400 | Loss 0.2366 | Train.Rand 0.8180 | Valid.Rand 0.5376 | Time(s) 0.7572\n",
            "Epoch 00401 | Loss 0.2465 | Train.Rand 0.7923 | Valid.Rand 0.5268 | Time(s) 0.7571\n",
            "Epoch 00402 | Loss 0.2164 | Train.Rand 0.8128 | Valid.Rand 0.5208 | Time(s) 0.7571\n",
            "Epoch 00403 | Loss 0.2467 | Train.Rand 0.8081 | Valid.Rand 0.5342 | Time(s) 0.7571\n",
            "Epoch 00404 | Loss 0.2351 | Train.Rand 0.8134 | Valid.Rand 0.5325 | Time(s) 0.7571\n",
            "Epoch 00405 | Loss 0.2398 | Train.Rand 0.8246 | Valid.Rand 0.5379 | Time(s) 0.7571\n",
            "Epoch 00406 | Loss 0.2389 | Train.Rand 0.8320 | Valid.Rand 0.5227 | Time(s) 0.7570\n",
            "Epoch 00407 | Loss 0.2315 | Train.Rand 0.8250 | Valid.Rand 0.5368 | Time(s) 0.7570\n",
            "Epoch 00408 | Loss 0.2275 | Train.Rand 0.7969 | Valid.Rand 0.5467 | Time(s) 0.7570\n",
            "Epoch 00409 | Loss 0.2486 | Train.Rand 0.8223 | Valid.Rand 0.5293 | Time(s) 0.7571\n",
            "Epoch 00410 | Loss 0.2559 | Train.Rand 0.8220 | Valid.Rand 0.4985 | Time(s) 0.7572\n",
            "Epoch 00411 | Loss 0.2461 | Train.Rand 0.8083 | Valid.Rand 0.5336 | Time(s) 0.7573\n",
            "Epoch 00412 | Loss 0.2653 | Train.Rand 0.7859 | Valid.Rand 0.5300 | Time(s) 0.7574\n",
            "Epoch 00413 | Loss 0.2158 | Train.Rand 0.8358 | Valid.Rand 0.5438 | Time(s) 0.7574\n",
            "Epoch 00414 | Loss 0.2466 | Train.Rand 0.8103 | Valid.Rand 0.5116 | Time(s) 0.7576\n",
            "Epoch 00415 | Loss 0.2320 | Train.Rand 0.8344 | Valid.Rand 0.5285 | Time(s) 0.7577\n",
            "Epoch 00416 | Loss 0.2273 | Train.Rand 0.8039 | Valid.Rand 0.5290 | Time(s) 0.7577\n",
            "Epoch 00417 | Loss 0.2346 | Train.Rand 0.8059 | Valid.Rand 0.5258 | Time(s) 0.7578\n",
            "Epoch 00418 | Loss 0.2311 | Train.Rand 0.8194 | Valid.Rand 0.5103 | Time(s) 0.7579\n",
            "Epoch 00419 | Loss 0.2298 | Train.Rand 0.8233 | Valid.Rand 0.4962 | Time(s) 0.7580\n",
            "Epoch 00420 | Loss 0.2170 | Train.Rand 0.8416 | Valid.Rand 0.5174 | Time(s) 0.7581\n",
            "Epoch 00421 | Loss 0.2398 | Train.Rand 0.8169 | Valid.Rand 0.5284 | Time(s) 0.7581\n",
            "Epoch 00422 | Loss 0.2262 | Train.Rand 0.8250 | Valid.Rand 0.5411 | Time(s) 0.7580\n",
            "Epoch 00423 | Loss 0.2445 | Train.Rand 0.8261 | Valid.Rand 0.5170 | Time(s) 0.7580\n",
            "Epoch 00424 | Loss 0.2426 | Train.Rand 0.8189 | Valid.Rand 0.5118 | Time(s) 0.7580\n",
            "Epoch 00425 | Loss 0.2391 | Train.Rand 0.8265 | Valid.Rand 0.5472 | Time(s) 0.7580\n",
            "Epoch 00426 | Loss 0.2329 | Train.Rand 0.8038 | Valid.Rand 0.5265 | Time(s) 0.7579\n",
            "Epoch 00427 | Loss 0.2348 | Train.Rand 0.8125 | Valid.Rand 0.5280 | Time(s) 0.7579\n",
            "Epoch 00428 | Loss 0.2424 | Train.Rand 0.8158 | Valid.Rand 0.5286 | Time(s) 0.7578\n",
            "Epoch 00429 | Loss 0.2427 | Train.Rand 0.8280 | Valid.Rand 0.5228 | Time(s) 0.7578\n",
            "Epoch 00430 | Loss 0.2375 | Train.Rand 0.8038 | Valid.Rand 0.5289 | Time(s) 0.7577\n",
            "Epoch 00431 | Loss 0.2403 | Train.Rand 0.7987 | Valid.Rand 0.5247 | Time(s) 0.7577\n",
            "Epoch 00432 | Loss 0.2917 | Train.Rand 0.7536 | Valid.Rand 0.4756 | Time(s) 0.7577\n",
            "Epoch 00433 | Loss 0.2898 | Train.Rand 0.7676 | Valid.Rand 0.5040 | Time(s) 0.7577\n",
            "Epoch 00434 | Loss 0.2542 | Train.Rand 0.7819 | Valid.Rand 0.5266 | Time(s) 0.7576\n",
            "Epoch 00435 | Loss 0.2924 | Train.Rand 0.7309 | Valid.Rand 0.4889 | Time(s) 0.7576\n",
            "Epoch 00436 | Loss 0.3309 | Train.Rand 0.7185 | Valid.Rand 0.5183 | Time(s) 0.7576\n",
            "Epoch 00437 | Loss 0.2697 | Train.Rand 0.7839 | Valid.Rand 0.5357 | Time(s) 0.7576\n",
            "Epoch 00438 | Loss 0.2929 | Train.Rand 0.7673 | Valid.Rand 0.5231 | Time(s) 0.7575\n",
            "Epoch 00439 | Loss 0.2842 | Train.Rand 0.7509 | Valid.Rand 0.5331 | Time(s) 0.7576\n",
            "Epoch 00440 | Loss 0.2903 | Train.Rand 0.7433 | Valid.Rand 0.5410 | Time(s) 0.7577\n",
            "Epoch 00441 | Loss 0.2650 | Train.Rand 0.7823 | Valid.Rand 0.5479 | Time(s) 0.7578\n",
            "Epoch 00442 | Loss 0.2779 | Train.Rand 0.7878 | Valid.Rand 0.5432 | Time(s) 0.7579\n",
            "Epoch 00443 | Loss 0.2632 | Train.Rand 0.7988 | Valid.Rand 0.5531 | Time(s) 0.7580\n",
            "Epoch 00444 | Loss 0.2584 | Train.Rand 0.7638 | Valid.Rand 0.5496 | Time(s) 0.7581\n",
            "Epoch 00445 | Loss 0.2595 | Train.Rand 0.7702 | Valid.Rand 0.5390 | Time(s) 0.7582\n",
            "Epoch 00446 | Loss 0.2469 | Train.Rand 0.7719 | Valid.Rand 0.5420 | Time(s) 0.7582\n",
            "Epoch 00447 | Loss 0.2535 | Train.Rand 0.7893 | Valid.Rand 0.5407 | Time(s) 0.7583\n",
            "Epoch 00448 | Loss 0.2463 | Train.Rand 0.8007 | Valid.Rand 0.5424 | Time(s) 0.7584\n",
            "Epoch 00449 | Loss 0.2448 | Train.Rand 0.8042 | Valid.Rand 0.5356 | Time(s) 0.7584\n",
            "Epoch 00450 | Loss 0.2380 | Train.Rand 0.8237 | Valid.Rand 0.5467 | Time(s) 0.7584\n",
            "Epoch 00451 | Loss 0.2262 | Train.Rand 0.8088 | Valid.Rand 0.5308 | Time(s) 0.7584\n",
            "Epoch 00452 | Loss 0.2228 | Train.Rand 0.8142 | Valid.Rand 0.5348 | Time(s) 0.7584\n",
            "Epoch 00453 | Loss 0.2461 | Train.Rand 0.8053 | Valid.Rand 0.5285 | Time(s) 0.7584\n",
            "Epoch 00454 | Loss 0.2380 | Train.Rand 0.8124 | Valid.Rand 0.5415 | Time(s) 0.7584\n",
            "Epoch 00455 | Loss 0.2462 | Train.Rand 0.8083 | Valid.Rand 0.5359 | Time(s) 0.7584\n",
            "Epoch 00456 | Loss 0.2431 | Train.Rand 0.8197 | Valid.Rand 0.5317 | Time(s) 0.7583\n",
            "Epoch 00457 | Loss 0.2414 | Train.Rand 0.8048 | Valid.Rand 0.5321 | Time(s) 0.7583\n",
            "Epoch 00458 | Loss 0.2364 | Train.Rand 0.8135 | Valid.Rand 0.5277 | Time(s) 0.7583\n",
            "Epoch 00459 | Loss 0.2520 | Train.Rand 0.8223 | Valid.Rand 0.5237 | Time(s) 0.7583\n",
            "Epoch 00460 | Loss 0.2295 | Train.Rand 0.8325 | Valid.Rand 0.5320 | Time(s) 0.7583\n",
            "Epoch 00461 | Loss 0.2328 | Train.Rand 0.8225 | Valid.Rand 0.5238 | Time(s) 0.7584\n",
            "Epoch 00462 | Loss 0.2361 | Train.Rand 0.8177 | Valid.Rand 0.5242 | Time(s) 0.7584\n",
            "Epoch 00463 | Loss 0.2489 | Train.Rand 0.8174 | Valid.Rand 0.5253 | Time(s) 0.7583\n",
            "Epoch 00464 | Loss 0.2254 | Train.Rand 0.8440 | Valid.Rand 0.5419 | Time(s) 0.7583\n",
            "Epoch 00465 | Loss 0.2405 | Train.Rand 0.8287 | Valid.Rand 0.5389 | Time(s) 0.7582\n",
            "Epoch 00466 | Loss 0.2389 | Train.Rand 0.8070 | Valid.Rand 0.5527 | Time(s) 0.7582\n",
            "Epoch 00467 | Loss 0.2372 | Train.Rand 0.8158 | Valid.Rand 0.5459 | Time(s) 0.7581\n",
            "Epoch 00468 | Loss 0.2343 | Train.Rand 0.8267 | Valid.Rand 0.5296 | Time(s) 0.7582\n",
            "Epoch 00469 | Loss 0.2340 | Train.Rand 0.8347 | Valid.Rand 0.5044 | Time(s) 0.7581\n",
            "Epoch 00470 | Loss 0.2312 | Train.Rand 0.8268 | Valid.Rand 0.4991 | Time(s) 0.7581\n",
            "Epoch 00471 | Loss 0.2288 | Train.Rand 0.8199 | Valid.Rand 0.5206 | Time(s) 0.7581\n",
            "Epoch 00472 | Loss 0.2458 | Train.Rand 0.8187 | Valid.Rand 0.5282 | Time(s) 0.7582\n",
            "Epoch 00473 | Loss 0.2430 | Train.Rand 0.8014 | Valid.Rand 0.5413 | Time(s) 0.7583\n",
            "Epoch 00474 | Loss 0.2269 | Train.Rand 0.8273 | Valid.Rand 0.5380 | Time(s) 0.7584\n",
            "Epoch 00475 | Loss 0.2212 | Train.Rand 0.8340 | Valid.Rand 0.5408 | Time(s) 0.7585\n",
            "Epoch 00476 | Loss 0.2277 | Train.Rand 0.8259 | Valid.Rand 0.5296 | Time(s) 0.7585\n",
            "Epoch 00477 | Loss 0.2283 | Train.Rand 0.8269 | Valid.Rand 0.5357 | Time(s) 0.7585\n",
            "Epoch 00478 | Loss 0.2451 | Train.Rand 0.8058 | Valid.Rand 0.5115 | Time(s) 0.7585\n",
            "Epoch 00479 | Loss 0.2691 | Train.Rand 0.7819 | Valid.Rand 0.5192 | Time(s) 0.7584\n",
            "Epoch 00480 | Loss 0.2639 | Train.Rand 0.7770 | Valid.Rand 0.5254 | Time(s) 0.7584\n",
            "Epoch 00481 | Loss 0.2600 | Train.Rand 0.8005 | Valid.Rand 0.5457 | Time(s) 0.7584\n",
            "Epoch 00482 | Loss 0.2473 | Train.Rand 0.7937 | Valid.Rand 0.5131 | Time(s) 0.7584\n",
            "Epoch 00483 | Loss 0.2494 | Train.Rand 0.7910 | Valid.Rand 0.5138 | Time(s) 0.7583\n",
            "Epoch 00484 | Loss 0.2408 | Train.Rand 0.7862 | Valid.Rand 0.5504 | Time(s) 0.7583\n",
            "Epoch 00485 | Loss 0.2439 | Train.Rand 0.8082 | Valid.Rand 0.5320 | Time(s) 0.7583\n",
            "Epoch 00486 | Loss 0.2660 | Train.Rand 0.7783 | Valid.Rand 0.4952 | Time(s) 0.7583\n",
            "Epoch 00487 | Loss 0.2668 | Train.Rand 0.7868 | Valid.Rand 0.5277 | Time(s) 0.7583\n",
            "Epoch 00488 | Loss 0.2469 | Train.Rand 0.7810 | Valid.Rand 0.5322 | Time(s) 0.7583\n",
            "Epoch 00489 | Loss 0.2441 | Train.Rand 0.8133 | Valid.Rand 0.5383 | Time(s) 0.7583\n",
            "Epoch 00490 | Loss 0.2519 | Train.Rand 0.8127 | Valid.Rand 0.5254 | Time(s) 0.7583\n",
            "Epoch 00491 | Loss 0.2449 | Train.Rand 0.8055 | Valid.Rand 0.5389 | Time(s) 0.7584\n",
            "Epoch 00492 | Loss 0.2583 | Train.Rand 0.8122 | Valid.Rand 0.5428 | Time(s) 0.7584\n",
            "Epoch 00493 | Loss 0.2418 | Train.Rand 0.8080 | Valid.Rand 0.5242 | Time(s) 0.7583\n",
            "Epoch 00494 | Loss 0.2302 | Train.Rand 0.8147 | Valid.Rand 0.5150 | Time(s) 0.7583\n",
            "Epoch 00495 | Loss 0.2290 | Train.Rand 0.8245 | Valid.Rand 0.5308 | Time(s) 0.7583\n",
            "Epoch 00496 | Loss 0.2361 | Train.Rand 0.8068 | Valid.Rand 0.5379 | Time(s) 0.7583\n",
            "Epoch 00497 | Loss 0.2326 | Train.Rand 0.8002 | Valid.Rand 0.5244 | Time(s) 0.7583\n",
            "Epoch 00498 | Loss 0.2310 | Train.Rand 0.8221 | Valid.Rand 0.5114 | Time(s) 0.7583\n",
            "Epoch 00499 | Loss 0.2370 | Train.Rand 0.8124 | Valid.Rand 0.5081 | Time(s) 0.7583\n",
            "Epoch 00500 | Loss 0.2381 | Train.Rand 0.8358 | Valid.Rand 0.5242 | Time(s) 0.7583\n",
            "Epoch 00501 | Loss 0.2438 | Train.Rand 0.8253 | Valid.Rand 0.5338 | Time(s) 0.7583\n",
            "Epoch 00502 | Loss 0.2516 | Train.Rand 0.7964 | Valid.Rand 0.5185 | Time(s) 0.7583\n",
            "Epoch 00503 | Loss 0.2389 | Train.Rand 0.8219 | Valid.Rand 0.5370 | Time(s) 0.7583\n",
            "Epoch 00504 | Loss 0.2480 | Train.Rand 0.8094 | Valid.Rand 0.5160 | Time(s) 0.7583\n",
            "Epoch 00505 | Loss 0.2533 | Train.Rand 0.7788 | Valid.Rand 0.5436 | Time(s) 0.7583\n",
            "Epoch 00506 | Loss 0.2463 | Train.Rand 0.8054 | Valid.Rand 0.5417 | Time(s) 0.7583\n",
            "Epoch 00507 | Loss 0.2413 | Train.Rand 0.8151 | Valid.Rand 0.5255 | Time(s) 0.7583\n",
            "Epoch 00508 | Loss 0.2350 | Train.Rand 0.8109 | Valid.Rand 0.5217 | Time(s) 0.7583\n",
            "Epoch 00509 | Loss 0.2446 | Train.Rand 0.7895 | Valid.Rand 0.5065 | Time(s) 0.7583\n",
            "Epoch 00510 | Loss 0.2392 | Train.Rand 0.8083 | Valid.Rand 0.4861 | Time(s) 0.7583\n",
            "Epoch 00511 | Loss 0.2496 | Train.Rand 0.8194 | Valid.Rand 0.5298 | Time(s) 0.7583\n",
            "Epoch 00512 | Loss 0.2250 | Train.Rand 0.7882 | Valid.Rand 0.5463 | Time(s) 0.7584\n",
            "Epoch 00513 | Loss 0.2311 | Train.Rand 0.8096 | Valid.Rand 0.5302 | Time(s) 0.7584\n",
            "Epoch 00514 | Loss 0.2480 | Train.Rand 0.8012 | Valid.Rand 0.5288 | Time(s) 0.7584\n",
            "Epoch 00515 | Loss 0.2499 | Train.Rand 0.8176 | Valid.Rand 0.5219 | Time(s) 0.7584\n",
            "Epoch 00516 | Loss 0.2597 | Train.Rand 0.7877 | Valid.Rand 0.5473 | Time(s) 0.7584\n",
            "Epoch 00517 | Loss 0.2439 | Train.Rand 0.8020 | Valid.Rand 0.5269 | Time(s) 0.7584\n",
            "Epoch 00518 | Loss 0.2544 | Train.Rand 0.8174 | Valid.Rand 0.4915 | Time(s) 0.7584\n",
            "Epoch 00519 | Loss 0.2812 | Train.Rand 0.7834 | Valid.Rand 0.5070 | Time(s) 0.7584\n",
            "Epoch 00520 | Loss 0.2402 | Train.Rand 0.8030 | Valid.Rand 0.5556 | Time(s) 0.7584\n",
            "Epoch 00521 | Loss 0.2675 | Train.Rand 0.8066 | Valid.Rand 0.5335 | Time(s) 0.7584\n",
            "Epoch 00522 | Loss 0.2560 | Train.Rand 0.8038 | Valid.Rand 0.5394 | Time(s) 0.7584\n",
            "Epoch 00523 | Loss 0.2383 | Train.Rand 0.8199 | Valid.Rand 0.5306 | Time(s) 0.7584\n",
            "Epoch 00524 | Loss 0.2541 | Train.Rand 0.7985 | Valid.Rand 0.5233 | Time(s) 0.7584\n",
            "Epoch 00525 | Loss 0.2462 | Train.Rand 0.7604 | Valid.Rand 0.5379 | Time(s) 0.7584\n",
            "Epoch 00526 | Loss 0.2469 | Train.Rand 0.8065 | Valid.Rand 0.5245 | Time(s) 0.7584\n",
            "Epoch 00527 | Loss 0.2478 | Train.Rand 0.8001 | Valid.Rand 0.5228 | Time(s) 0.7584\n",
            "Epoch 00528 | Loss 0.2337 | Train.Rand 0.8074 | Valid.Rand 0.5524 | Time(s) 0.7584\n",
            "Epoch 00529 | Loss 0.2343 | Train.Rand 0.7921 | Valid.Rand 0.5508 | Time(s) 0.7585\n",
            "Epoch 00530 | Loss 0.2352 | Train.Rand 0.8228 | Valid.Rand 0.5175 | Time(s) 0.7585\n",
            "Epoch 00531 | Loss 0.2353 | Train.Rand 0.8048 | Valid.Rand 0.5357 | Time(s) 0.7585\n",
            "Epoch 00532 | Loss 0.2299 | Train.Rand 0.8153 | Valid.Rand 0.5377 | Time(s) 0.7585\n",
            "Epoch 00533 | Loss 0.2355 | Train.Rand 0.8187 | Valid.Rand 0.5107 | Time(s) 0.7585\n",
            "Epoch 00534 | Loss 0.2385 | Train.Rand 0.8008 | Valid.Rand 0.5193 | Time(s) 0.7585\n",
            "Epoch 00535 | Loss 0.2421 | Train.Rand 0.8215 | Valid.Rand 0.5438 | Time(s) 0.7585\n",
            "Epoch 00536 | Loss 0.2477 | Train.Rand 0.8047 | Valid.Rand 0.5243 | Time(s) 0.7585\n",
            "Epoch 00537 | Loss 0.2323 | Train.Rand 0.8242 | Valid.Rand 0.5328 | Time(s) 0.7585\n",
            "Epoch 00538 | Loss 0.2448 | Train.Rand 0.8004 | Valid.Rand 0.5247 | Time(s) 0.7585\n",
            "Epoch 00539 | Loss 0.2442 | Train.Rand 0.8212 | Valid.Rand 0.5070 | Time(s) 0.7585\n",
            "Epoch 00540 | Loss 0.2329 | Train.Rand 0.8207 | Valid.Rand 0.5199 | Time(s) 0.7585\n",
            "Epoch 00541 | Loss 0.2329 | Train.Rand 0.8161 | Valid.Rand 0.5276 | Time(s) 0.7585\n",
            "Epoch 00542 | Loss 0.2235 | Train.Rand 0.8330 | Valid.Rand 0.5327 | Time(s) 0.7585\n",
            "Epoch 00543 | Loss 0.2325 | Train.Rand 0.8247 | Valid.Rand 0.5096 | Time(s) 0.7584\n",
            "Epoch 00544 | Loss 0.2346 | Train.Rand 0.8361 | Valid.Rand 0.5162 | Time(s) 0.7584\n",
            "Epoch 00545 | Loss 0.2321 | Train.Rand 0.8222 | Valid.Rand 0.5275 | Time(s) 0.7584\n",
            "Epoch 00546 | Loss 0.2326 | Train.Rand 0.8114 | Valid.Rand 0.5077 | Time(s) 0.7583\n",
            "Epoch 00547 | Loss 0.2291 | Train.Rand 0.8197 | Valid.Rand 0.5307 | Time(s) 0.7583\n",
            "Epoch 00548 | Loss 0.2296 | Train.Rand 0.8392 | Valid.Rand 0.5235 | Time(s) 0.7583\n",
            "Epoch 00549 | Loss 0.2403 | Train.Rand 0.8209 | Valid.Rand 0.5200 | Time(s) 0.7583\n",
            "Epoch 00550 | Loss 0.2357 | Train.Rand 0.8223 | Valid.Rand 0.5384 | Time(s) 0.7583\n",
            "Epoch 00551 | Loss 0.2373 | Train.Rand 0.8226 | Valid.Rand 0.5376 | Time(s) 0.7582\n",
            "Epoch 00552 | Loss 0.2422 | Train.Rand 0.8192 | Valid.Rand 0.5382 | Time(s) 0.7582\n",
            "Epoch 00553 | Loss 0.2307 | Train.Rand 0.8231 | Valid.Rand 0.5351 | Time(s) 0.7583\n",
            "Epoch 00554 | Loss 0.2258 | Train.Rand 0.8236 | Valid.Rand 0.5116 | Time(s) 0.7582\n",
            "Epoch 00555 | Loss 0.2390 | Train.Rand 0.8041 | Valid.Rand 0.5304 | Time(s) 0.7582\n",
            "Epoch 00556 | Loss 0.2204 | Train.Rand 0.8192 | Valid.Rand 0.5341 | Time(s) 0.7582\n",
            "Epoch 00557 | Loss 0.2399 | Train.Rand 0.7993 | Valid.Rand 0.5225 | Time(s) 0.7583\n",
            "Epoch 00558 | Loss 0.2374 | Train.Rand 0.8184 | Valid.Rand 0.5234 | Time(s) 0.7583\n",
            "Epoch 00559 | Loss 0.2511 | Train.Rand 0.7722 | Valid.Rand 0.5125 | Time(s) 0.7582\n",
            "Epoch 00560 | Loss 0.2562 | Train.Rand 0.8232 | Valid.Rand 0.5195 | Time(s) 0.7583\n",
            "Epoch 00561 | Loss 0.2395 | Train.Rand 0.8196 | Valid.Rand 0.5134 | Time(s) 0.7583\n",
            "Epoch 00562 | Loss 0.2717 | Train.Rand 0.7953 | Valid.Rand 0.5058 | Time(s) 0.7583\n",
            "Epoch 00563 | Loss 0.2574 | Train.Rand 0.8060 | Valid.Rand 0.5008 | Time(s) 0.7583\n",
            "Epoch 00564 | Loss 0.2621 | Train.Rand 0.7682 | Valid.Rand 0.5333 | Time(s) 0.7583\n"
          ]
        },
        {
          "output_type": "execute_result",
          "data": {
            "text/plain": [
              "<All keys matched successfully>"
            ]
          },
          "metadata": {},
          "execution_count": 24
        }
      ]
    },
    {
      "cell_type": "code",
      "metadata": {
        "colab": {
          "base_uri": "https://localhost:8080/",
          "height": 282
        },
        "id": "l-vcPWhxsKAT",
        "outputId": "f0f3d058-6e1d-4a3a-c04e-67cc15dac0dd"
      },
      "source": [
        "import seaborn as sns\n",
        "sns.lineplot(x=range(len(loss_ev)), y=loss_ev)\n"
      ],
      "execution_count": 25,
      "outputs": [
        {
          "output_type": "execute_result",
          "data": {
            "text/plain": [
              "<matplotlib.axes._subplots.AxesSubplot at 0x7fa150ca9b10>"
            ]
          },
          "metadata": {},
          "execution_count": 25
        },
        {
          "output_type": "display_data",
          "data": {
            "image/png": "[encoded data removed]",
            "text/plain": [
              "<Figure size 432x288 with 1 Axes>"
            ]
          },
          "metadata": {
            "needs_background": "light"
          }
        }
      ]
    },
    {
      "cell_type": "code",
      "metadata": {
        "colab": {
          "base_uri": "https://localhost:8080/"
        },
        "id": "zvF64MJDIYmW",
        "outputId": "fcd6f057-0b9b-411b-c48b-aa3ac2d2db19"
      },
      "source": [
        "net.load_state_dict(current_best_params)"
      ],
      "execution_count": 26,
      "outputs": [
        {
          "output_type": "execute_result",
          "data": {
            "text/plain": [
              "<All keys matched successfully>"
            ]
          },
          "metadata": {},
          "execution_count": 26
        }
      ]
    },
    {
      "cell_type": "code",
      "metadata": {
        "colab": {
          "base_uri": "https://localhost:8080/"
        },
        "id": "bFpZlJOeOKlS",
        "outputId": "300cf579-bd63-422e-9fb9-1ac4b84d6954"
      },
      "source": [
        "np.unique(np.argmax(logits[mask_train].detach().numpy(),1))"
      ],
      "execution_count": 27,
      "outputs": [
        {
          "output_type": "execute_result",
          "data": {
            "text/plain": [
              "array([0, 1, 2])"
            ]
          },
          "metadata": {},
          "execution_count": 27
        }
      ]
    },
    {
      "cell_type": "code",
      "metadata": {
        "id": "NqUOV82Cb3dq"
      },
      "source": [
        ""
      ],
      "execution_count": null,
      "outputs": []
    },
    {
      "cell_type": "code",
      "metadata": {
        "colab": {
          "base_uri": "https://localhost:8080/"
        },
        "id": "jpuKzkwMQL0_",
        "outputId": "6276633f-b505-4963-b89f-a2a800983b30"
      },
      "source": [
        "# Visualise predictions\n",
        "net.eval() # Set net to evaluation mode (deactivates dropout)\n",
        "final_prediction = net(features).detach()\n",
        "a = np.transpose(np.vstack([final_prediction[comb_mask].numpy().argmax(axis=1),labels[comb_mask].numpy()]))\n",
        "a[a[:,0].argsort()][np.random.choice(range(a.shape[0]),size=10)]\n",
        "\n",
        "# As can be seen, the graph net predicts correct labels"
      ],
      "execution_count": 30,
      "outputs": [
        {
          "output_type": "execute_result",
          "data": {
            "text/plain": [
              "array([[1, 1],\n",
              "       [0, 1],\n",
              "       [1, 1],\n",
              "       [1, 1],\n",
              "       [1, 1],\n",
              "       [1, 1],\n",
              "       [1, 1],\n",
              "       [2, 2],\n",
              "       [1, 1],\n",
              "       [1, 1]])"
            ]
          },
          "metadata": {},
          "execution_count": 30
        }
      ]
    },
    {
      "cell_type": "code",
      "metadata": {
        "id": "a9c8JUmkeATZ",
        "colab": {
          "base_uri": "https://localhost:8080/",
          "height": 577
        },
        "outputId": "f99d054f-3e08-4b48-98de-d95e659984ef"
      },
      "source": [
        "import matplotlib.pyplot as plt\n",
        "\n",
        "\n",
        "dataset = dgl.data.CoraGraphDataset()\n",
        "g = dataset[0]\n",
        "options = {\n",
        "    'node_color': 'black',\n",
        "    'node_size': 20,\n",
        "    'width': 1,\n",
        "}\n",
        "G = dgl.to_networkx(g)\n",
        "plt.figure(figsize=[15,7])\n",
        "nx.draw(G, **options)\n"
      ],
      "execution_count": 31,
      "outputs": [
        {
          "output_type": "stream",
          "name": "stdout",
          "text": [
            "Downloading /root/.dgl/cora_v2.zip from https://data.dgl.ai/dataset/cora_v2.zip...\n",
            "Extracting file to /root/.dgl/cora_v2\n",
            "Finished data loading and preprocessing.\n",
            "  NumNodes: 2708\n",
            "  NumEdges: 10556\n",
            "  NumFeats: 1433\n",
            "  NumClasses: 7\n",
            "  NumTrainingSamples: 140\n",
            "  NumValidationSamples: 500\n",
            "  NumTestSamples: 1000\n",
            "Done saving data into cached files.\n"
          ]
        },
        {
          "output_type": "display_data",
          "data": {
            "image/png": "[encoded data removed]",
            "text/plain": [
              "<Figure size 1080x504 with 1 Axes>"
            ]
          },
          "metadata": {}
        }
      ]
    },
    {
      "cell_type": "code",
      "metadata": {
        "id": "JM_hDALScdxW"
      },
      "source": [
        ""
      ],
      "execution_count": 36,
      "outputs": []
    },
    {
      "cell_type": "markdown",
      "metadata": {
        "id": "2wmHeyTrSf1H"
      },
      "source": [
        "## Evaluation\n"
      ]
    },
    {
      "cell_type": "code",
      "metadata": {
        "id": "C46ZjsYgZ2tu"
      },
      "source": [
        "# Performnace evaluation functions\n",
        "\n",
        "def variation_of_information_score(labels, preds):\n",
        "    def mi(x, y):\n",
        "        contingency = skmetrics.cluster.contingency_matrix(x, y, sparse=True)\n",
        "        # print(contingency.todense())\n",
        "        nzx, nzy, nz_val = sp.find(contingency)\n",
        "        contingency_sum = contingency.sum()\n",
        "\n",
        "        pi = np.ravel(contingency.sum(axis=1))\n",
        "        pj = np.ravel(contingency.sum(axis=0))\n",
        "        # print(nz_val)\n",
        "        log_contingency_nm = np.log(nz_val)\n",
        "        # print(log_contingency_nm)\n",
        "        contingency_nm = nz_val / contingency_sum\n",
        "        # print(contingency_nm)\n",
        "\n",
        "        # Don't need to calculate the full outer product, just for non-zeroes\n",
        "        outer = pi.take(nzx).astype(np.int64, copy=False) * pj.take(nzy).astype(\n",
        "            np.int64, copy=False\n",
        "        )\n",
        "        # print(outer)\n",
        "        log_outer = -np.log(outer) + log(pi.sum()) + log(pj.sum())\n",
        "        # print(log_outer)\n",
        "        mi = (\n",
        "            contingency_nm * (log_contingency_nm - log(contingency_sum))\n",
        "            + contingency_nm * log_outer\n",
        "        )\n",
        "        # print(mi)\n",
        "        return mi.sum()\n",
        "\n",
        "    return mi(labels, labels) + mi(preds, preds) - 2 * mi(labels, preds)\n",
        "\n",
        "\n",
        "def mutual_info_score(labels, preds):\n",
        "    return skmetrics.adjusted_mutual_info_score(labels, preds, average_method=\"arithmetic\")\n",
        "\n",
        "def compute_performance(labels, logits, splits):\n",
        "    logits = logits.detach().numpy()\n",
        "    preds = np.argmax(logits, axis=1)\n",
        "    labels = labels.numpy()\n",
        "    pred_sets = {\n",
        "        \"All \": preds,\n",
        "        \"Train\": preds[mask_train],\n",
        "        \"Val\": preds[mask_val],\n",
        "        \"Test\": preds[test_mask],\n",
        "    }\n",
        "    label_sets = {\n",
        "        \"All \": labels,\n",
        "        \"Train\": labels[mask_train],\n",
        "        \"Val\": labels[mask_val],\n",
        "        \"Test\": labels[test_mask],\n",
        "    }\n",
        "    eval_functions = {\n",
        "        \"Rand-Index\": rand_score,\n",
        "        \"Mutual Information\": mutual_info_score,\n",
        "        \"Variation of Information\": variation_of_information_score,\n",
        "    }\n",
        "    scores = {\n",
        "        subset: {\n",
        "            name: func(label_sets[subset], pred_sets[subset])\n",
        "            for name, func in eval_functions.items()\n",
        "        }\n",
        "        for subset in pred_sets.keys()\n",
        "    }\n",
        "    return scores\n",
        "\n",
        "def performance_as_df(labels, logits, splits):\n",
        "    scores = compute_performance(labels, logits, splits)\n",
        "    return pd.DataFrame(scores)\n",
        "\n",
        "def rand_score(labels, preds):\n",
        "    return skmetrics.adjusted_rand_score(labels, preds)"
      ],
      "execution_count": 37,
      "outputs": []
    },
    {
      "cell_type": "code",
      "metadata": {
        "colab": {
          "base_uri": "https://localhost:8080/",
          "height": 142
        },
        "id": "nUltH0-xRaNk",
        "outputId": "76106b47-2373-4c07-f3fe-ff9f0bd98ceb"
      },
      "source": [
        "net.eval() # Set net to evaluation mode (deactivates dropout)\n",
        "final_prediction = net(features).detach()\n",
        "performance_as_df(labels,final_prediction,comb_mask)"
      ],
      "execution_count": 38,
      "outputs": [
        {
          "output_type": "execute_result",
          "data": {
            "text/html": [
              "<div>\n",
              "<style scoped>\n",
              "    .dataframe tbody tr th:only-of-type {\n",
              "        vertical-align: middle;\n",
              "    }\n",
              "\n",
              "    .dataframe tbody tr th {\n",
              "        vertical-align: top;\n",
              "    }\n",
              "\n",
              "    .dataframe thead th {\n",
              "        text-align: right;\n",
              "    }\n",
              "</style>\n",
              "<table border=\"1\" class=\"dataframe\">\n",
              "  <thead>\n",
              "    <tr style=\"text-align: right;\">\n",
              "      <th></th>\n",
              "      <th>All</th>\n",
              "      <th>Train</th>\n",
              "      <th>Val</th>\n",
              "      <th>Test</th>\n",
              "    </tr>\n",
              "  </thead>\n",
              "  <tbody>\n",
              "    <tr>\n",
              "      <th>Rand-Index</th>\n",
              "      <td>0.572766</td>\n",
              "      <td>0.844028</td>\n",
              "      <td>0.541899</td>\n",
              "      <td>0.574670</td>\n",
              "    </tr>\n",
              "    <tr>\n",
              "      <th>Mutual Information</th>\n",
              "      <td>0.483926</td>\n",
              "      <td>0.768033</td>\n",
              "      <td>0.456625</td>\n",
              "      <td>0.475153</td>\n",
              "    </tr>\n",
              "    <tr>\n",
              "      <th>Variation of Information</th>\n",
              "      <td>1.094712</td>\n",
              "      <td>0.488712</td>\n",
              "      <td>1.142830</td>\n",
              "      <td>1.090551</td>\n",
              "    </tr>\n",
              "  </tbody>\n",
              "</table>\n",
              "</div>"
            ],
            "text/plain": [
              "                              All      Train       Val      Test\n",
              "Rand-Index                0.572766  0.844028  0.541899  0.574670\n",
              "Mutual Information        0.483926  0.768033  0.456625  0.475153\n",
              "Variation of Information  1.094712  0.488712  1.142830  1.090551"
            ]
          },
          "metadata": {},
          "execution_count": 38
        }
      ]
    },
    {
      "cell_type": "code",
      "metadata": {
        "id": "XVNusA8avfGU"
      },
      "source": [
        ""
      ],
      "execution_count": null,
      "outputs": []
    }
  ]
}