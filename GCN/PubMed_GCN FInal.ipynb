{
 "cells": [
  {
   "cell_type": "markdown",
   "id": "13d089a5",
   "metadata": {},
   "source": [
    "## Notebook running GCN on the Cora Dataset"
   ]
  },
  {
   "cell_type": "markdown",
   "id": "ba0f81c4",
   "metadata": {},
   "source": [
    "#### Sorry, The code is taken from https://stellargraph.readthedocs.io/en/stable/demos/node-classification/gcn-node-classification.html as I was having trouble getting my GCN to waork with the PUBmed Dataset"
   ]
  },
  {
   "cell_type": "code",
   "execution_count": 2,
   "id": "6db15994",
   "metadata": {
    "ExecuteTime": {
     "end_time": "2021-12-12T06:31:39.278158Z",
     "start_time": "2021-12-12T06:31:39.259149Z"
    }
   },
   "outputs": [],
   "source": [
    "import pandas as pd\n",
    "import os\n",
    "\n",
    "import stellargraph as sg\n",
    "from stellargraph.mapper import FullBatchNodeGenerator\n",
    "from stellargraph.layer import GCN\n",
    "\n",
    "from tensorflow.keras import layers, optimizers, losses, metrics, Model\n",
    "from sklearn import preprocessing, model_selection\n",
    "from IPython.display import display, HTML\n",
    "import matplotlib.pyplot as plt\n",
    "%matplotlib inline"
   ]
  },
  {
   "cell_type": "code",
   "execution_count": 3,
   "id": "301948cf",
   "metadata": {
    "ExecuteTime": {
     "end_time": "2021-12-12T06:31:42.382437Z",
     "start_time": "2021-12-12T06:31:40.574293Z"
    }
   },
   "outputs": [
    {
     "data": {
      "text/html": [
       "The PubMed Diabetes dataset consists of 19717 scientific publications from PubMed database pertaining to diabetes classified into one of three classes. The citation network consists of 44338 links. Each publication in the dataset is described by a TF/IDF weighted word vector from a dictionary which consists of 500 unique words."
      ],
      "text/plain": [
       "<IPython.core.display.HTML object>"
      ]
     },
     "metadata": {},
     "output_type": "display_data"
    },
    {
     "name": "stdout",
     "output_type": "stream",
     "text": [
      "StellarGraph: Undirected multigraph\n",
      " Nodes: 19717, Edges: 44338\n",
      "\n",
      " Node types:\n",
      "  paper: [19717]\n",
      "    Features: float32 vector, length 500\n",
      "    Edge types: paper-cites->paper\n",
      "\n",
      " Edge types:\n",
      "    paper-cites->paper: [44338]\n",
      "        Weights: all 1 (default)\n",
      "        Features: none\n"
     ]
    }
   ],
   "source": [
    "dataset = sg.datasets.PubMedDiabetes()\n",
    "display(HTML(dataset.description))\n",
    "G, node_subjects = dataset.load()\n",
    "print(G.info())"
   ]
  },
  {
   "cell_type": "code",
   "execution_count": 4,
   "id": "68d202bb",
   "metadata": {
    "ExecuteTime": {
     "end_time": "2021-12-12T06:31:52.131357Z",
     "start_time": "2021-12-12T06:31:52.122348Z"
    }
   },
   "outputs": [
    {
     "data": {
      "text/html": [
       "<div>\n",
       "<style scoped>\n",
       "    .dataframe tbody tr th:only-of-type {\n",
       "        vertical-align: middle;\n",
       "    }\n",
       "\n",
       "    .dataframe tbody tr th {\n",
       "        vertical-align: top;\n",
       "    }\n",
       "\n",
       "    .dataframe thead th {\n",
       "        text-align: right;\n",
       "    }\n",
       "</style>\n",
       "<table border=\"1\" class=\"dataframe\">\n",
       "  <thead>\n",
       "    <tr style=\"text-align: right;\">\n",
       "      <th></th>\n",
       "      <th>label</th>\n",
       "    </tr>\n",
       "  </thead>\n",
       "  <tbody>\n",
       "    <tr>\n",
       "      <th>2</th>\n",
       "      <td>7875</td>\n",
       "    </tr>\n",
       "    <tr>\n",
       "      <th>3</th>\n",
       "      <td>7739</td>\n",
       "    </tr>\n",
       "    <tr>\n",
       "      <th>1</th>\n",
       "      <td>4103</td>\n",
       "    </tr>\n",
       "  </tbody>\n",
       "</table>\n",
       "</div>"
      ],
      "text/plain": [
       "   label\n",
       "2   7875\n",
       "3   7739\n",
       "1   4103"
      ]
     },
     "execution_count": 4,
     "metadata": {},
     "output_type": "execute_result"
    }
   ],
   "source": [
    "node_subjects.value_counts().to_frame()"
   ]
  },
  {
   "cell_type": "code",
   "execution_count": 5,
   "id": "1d2d0d5f",
   "metadata": {
    "ExecuteTime": {
     "end_time": "2021-12-12T06:31:52.965315Z",
     "start_time": "2021-12-12T06:31:52.937300Z"
    }
   },
   "outputs": [
    {
     "data": {
      "text/html": [
       "<div>\n",
       "<style scoped>\n",
       "    .dataframe tbody tr th:only-of-type {\n",
       "        vertical-align: middle;\n",
       "    }\n",
       "\n",
       "    .dataframe tbody tr th {\n",
       "        vertical-align: top;\n",
       "    }\n",
       "\n",
       "    .dataframe thead th {\n",
       "        text-align: right;\n",
       "    }\n",
       "</style>\n",
       "<table border=\"1\" class=\"dataframe\">\n",
       "  <thead>\n",
       "    <tr style=\"text-align: right;\">\n",
       "      <th></th>\n",
       "      <th>label</th>\n",
       "    </tr>\n",
       "  </thead>\n",
       "  <tbody>\n",
       "    <tr>\n",
       "      <th>2</th>\n",
       "      <td>200</td>\n",
       "    </tr>\n",
       "    <tr>\n",
       "      <th>3</th>\n",
       "      <td>196</td>\n",
       "    </tr>\n",
       "    <tr>\n",
       "      <th>1</th>\n",
       "      <td>104</td>\n",
       "    </tr>\n",
       "  </tbody>\n",
       "</table>\n",
       "</div>"
      ],
      "text/plain": [
       "   label\n",
       "2    200\n",
       "3    196\n",
       "1    104"
      ]
     },
     "execution_count": 5,
     "metadata": {},
     "output_type": "execute_result"
    }
   ],
   "source": [
    "train_subjects, test_subjects = model_selection.train_test_split(\n",
    "    node_subjects, train_size=500, test_size=None, stratify=node_subjects\n",
    ")\n",
    "val_subjects, test_subjects = model_selection.train_test_split(\n",
    "    test_subjects, train_size=500, test_size=None, stratify=test_subjects\n",
    ")\n",
    "\n",
    "train_subjects.value_counts().to_frame()"
   ]
  },
  {
   "cell_type": "code",
   "execution_count": 6,
   "id": "acc17a62",
   "metadata": {
    "ExecuteTime": {
     "end_time": "2021-12-12T06:31:53.419736Z",
     "start_time": "2021-12-12T06:31:53.179023Z"
    }
   },
   "outputs": [
    {
     "name": "stdout",
     "output_type": "stream",
     "text": [
      "Using GCN (local pooling) filters...\n"
     ]
    }
   ],
   "source": [
    "target_encoding = preprocessing.LabelBinarizer()\n",
    "\n",
    "train_targets = target_encoding.fit_transform(train_subjects)\n",
    "val_targets = target_encoding.transform(val_subjects)\n",
    "test_targets = target_encoding.transform(test_subjects)\n",
    "\n",
    "generator = FullBatchNodeGenerator(G, method=\"gcn\")\n",
    "train_gen = generator.flow(train_subjects.index, train_targets)\n",
    "\n",
    "gcn = GCN(\n",
    "    layer_sizes=[32, 32], activations=[\"relu\", \"relu\"], generator=generator, dropout=0.5\n",
    ")\n",
    "\n",
    "x_inp, x_out = gcn.in_out_tensors()\n",
    "predictions = layers.Dense(units=train_targets.shape[1], activation=\"softmax\")(x_out)\n",
    "\n",
    "model = Model(inputs=x_inp, outputs=predictions)\n",
    "model.compile(\n",
    "    optimizer=optimizers.Adam(learning_rate=0.01),\n",
    "    loss=losses.categorical_crossentropy,\n",
    "    metrics=[\"acc\"],\n",
    ")\n",
    "\n",
    "val_gen = generator.flow(val_subjects.index, val_targets)"
   ]
  },
  {
   "cell_type": "code",
   "execution_count": 7,
   "id": "6ffee70e",
   "metadata": {
    "ExecuteTime": {
     "end_time": "2021-12-12T06:31:53.846509Z",
     "start_time": "2021-12-12T06:31:53.836500Z"
    }
   },
   "outputs": [],
   "source": [
    "from tensorflow.keras.callbacks import EarlyStopping\n",
    "\n",
    "es_callback = EarlyStopping(monitor=\"val_acc\", patience=50, restore_best_weights=True)"
   ]
  },
  {
   "cell_type": "code",
   "execution_count": 8,
   "id": "83cecdd8",
   "metadata": {
    "ExecuteTime": {
     "end_time": "2021-12-12T06:32:10.497138Z",
     "start_time": "2021-12-12T06:31:54.213005Z"
    },
    "scrolled": true
   },
   "outputs": [
    {
     "name": "stdout",
     "output_type": "stream",
     "text": [
      "Epoch 1/200\n",
      "1/1 - 1s - loss: 1.0985 - acc: 0.3680 - val_loss: 1.0815 - val_acc: 0.4840 - 732ms/epoch - 732ms/step\n",
      "Epoch 2/200\n",
      "1/1 - 0s - loss: 1.0811 - acc: 0.4860 - val_loss: 1.0630 - val_acc: 0.4840 - 155ms/epoch - 155ms/step\n",
      "Epoch 3/200\n",
      "1/1 - 0s - loss: 1.0617 - acc: 0.4740 - val_loss: 1.0434 - val_acc: 0.4820 - 157ms/epoch - 157ms/step\n",
      "Epoch 4/200\n",
      "1/1 - 0s - loss: 1.0405 - acc: 0.4840 - val_loss: 1.0234 - val_acc: 0.5000 - 160ms/epoch - 160ms/step\n",
      "Epoch 5/200\n",
      "1/1 - 0s - loss: 1.0167 - acc: 0.5060 - val_loss: 1.0025 - val_acc: 0.5320 - 156ms/epoch - 156ms/step\n",
      "Epoch 6/200\n",
      "1/1 - 0s - loss: 0.9996 - acc: 0.5200 - val_loss: 0.9791 - val_acc: 0.5680 - 158ms/epoch - 158ms/step\n",
      "Epoch 7/200\n",
      "1/1 - 0s - loss: 0.9705 - acc: 0.5800 - val_loss: 0.9507 - val_acc: 0.6100 - 157ms/epoch - 157ms/step\n",
      "Epoch 8/200\n",
      "1/1 - 0s - loss: 0.9381 - acc: 0.6120 - val_loss: 0.9176 - val_acc: 0.6420 - 157ms/epoch - 157ms/step\n",
      "Epoch 9/200\n",
      "1/1 - 0s - loss: 0.9090 - acc: 0.6360 - val_loss: 0.8839 - val_acc: 0.6640 - 159ms/epoch - 159ms/step\n",
      "Epoch 10/200\n",
      "1/1 - 0s - loss: 0.8744 - acc: 0.6820 - val_loss: 0.8510 - val_acc: 0.7080 - 157ms/epoch - 157ms/step\n",
      "Epoch 11/200\n",
      "1/1 - 0s - loss: 0.8407 - acc: 0.6980 - val_loss: 0.8167 - val_acc: 0.7480 - 159ms/epoch - 159ms/step\n",
      "Epoch 12/200\n",
      "1/1 - 0s - loss: 0.8092 - acc: 0.7500 - val_loss: 0.7803 - val_acc: 0.7780 - 158ms/epoch - 158ms/step\n",
      "Epoch 13/200\n",
      "1/1 - 0s - loss: 0.7696 - acc: 0.7580 - val_loss: 0.7423 - val_acc: 0.7800 - 158ms/epoch - 158ms/step\n",
      "Epoch 14/200\n",
      "1/1 - 0s - loss: 0.7246 - acc: 0.7880 - val_loss: 0.7036 - val_acc: 0.7940 - 159ms/epoch - 159ms/step\n",
      "Epoch 15/200\n",
      "1/1 - 0s - loss: 0.6802 - acc: 0.7980 - val_loss: 0.6655 - val_acc: 0.8060 - 155ms/epoch - 155ms/step\n",
      "Epoch 16/200\n",
      "1/1 - 0s - loss: 0.6365 - acc: 0.8020 - val_loss: 0.6288 - val_acc: 0.8140 - 159ms/epoch - 159ms/step\n",
      "Epoch 17/200\n",
      "1/1 - 0s - loss: 0.5893 - acc: 0.8320 - val_loss: 0.5945 - val_acc: 0.8180 - 158ms/epoch - 158ms/step\n",
      "Epoch 18/200\n",
      "1/1 - 0s - loss: 0.5524 - acc: 0.8500 - val_loss: 0.5625 - val_acc: 0.8220 - 157ms/epoch - 157ms/step\n",
      "Epoch 19/200\n",
      "1/1 - 0s - loss: 0.5200 - acc: 0.8420 - val_loss: 0.5353 - val_acc: 0.8200 - 159ms/epoch - 159ms/step\n",
      "Epoch 20/200\n",
      "1/1 - 0s - loss: 0.4797 - acc: 0.8400 - val_loss: 0.5130 - val_acc: 0.8240 - 161ms/epoch - 161ms/step\n",
      "Epoch 21/200\n",
      "1/1 - 0s - loss: 0.4450 - acc: 0.8700 - val_loss: 0.4950 - val_acc: 0.8220 - 158ms/epoch - 158ms/step\n",
      "Epoch 22/200\n",
      "1/1 - 0s - loss: 0.4146 - acc: 0.8560 - val_loss: 0.4772 - val_acc: 0.8260 - 163ms/epoch - 163ms/step\n",
      "Epoch 23/200\n",
      "1/1 - 0s - loss: 0.4078 - acc: 0.8580 - val_loss: 0.4624 - val_acc: 0.8240 - 165ms/epoch - 165ms/step\n",
      "Epoch 24/200\n",
      "1/1 - 0s - loss: 0.3973 - acc: 0.8640 - val_loss: 0.4506 - val_acc: 0.8280 - 169ms/epoch - 169ms/step\n",
      "Epoch 25/200\n",
      "1/1 - 0s - loss: 0.3461 - acc: 0.8900 - val_loss: 0.4413 - val_acc: 0.8200 - 162ms/epoch - 162ms/step\n",
      "Epoch 26/200\n",
      "1/1 - 0s - loss: 0.3583 - acc: 0.8720 - val_loss: 0.4390 - val_acc: 0.8180 - 160ms/epoch - 160ms/step\n",
      "Epoch 27/200\n",
      "1/1 - 0s - loss: 0.3389 - acc: 0.8920 - val_loss: 0.4399 - val_acc: 0.8220 - 160ms/epoch - 160ms/step\n",
      "Epoch 28/200\n",
      "1/1 - 0s - loss: 0.2998 - acc: 0.8880 - val_loss: 0.4476 - val_acc: 0.8240 - 161ms/epoch - 161ms/step\n",
      "Epoch 29/200\n",
      "1/1 - 0s - loss: 0.3167 - acc: 0.8840 - val_loss: 0.4488 - val_acc: 0.8280 - 159ms/epoch - 159ms/step\n",
      "Epoch 30/200\n",
      "1/1 - 0s - loss: 0.3069 - acc: 0.8880 - val_loss: 0.4471 - val_acc: 0.8260 - 161ms/epoch - 161ms/step\n",
      "Epoch 31/200\n",
      "1/1 - 0s - loss: 0.3112 - acc: 0.8800 - val_loss: 0.4458 - val_acc: 0.8260 - 161ms/epoch - 161ms/step\n",
      "Epoch 32/200\n",
      "1/1 - 0s - loss: 0.2925 - acc: 0.8980 - val_loss: 0.4479 - val_acc: 0.8220 - 159ms/epoch - 159ms/step\n",
      "Epoch 33/200\n",
      "1/1 - 0s - loss: 0.2638 - acc: 0.9100 - val_loss: 0.4488 - val_acc: 0.8320 - 165ms/epoch - 165ms/step\n",
      "Epoch 34/200\n",
      "1/1 - 0s - loss: 0.2837 - acc: 0.9060 - val_loss: 0.4446 - val_acc: 0.8340 - 157ms/epoch - 157ms/step\n",
      "Epoch 35/200\n",
      "1/1 - 0s - loss: 0.2757 - acc: 0.9100 - val_loss: 0.4480 - val_acc: 0.8360 - 160ms/epoch - 160ms/step\n",
      "Epoch 36/200\n",
      "1/1 - 0s - loss: 0.2410 - acc: 0.9200 - val_loss: 0.4555 - val_acc: 0.8400 - 160ms/epoch - 160ms/step\n",
      "Epoch 37/200\n",
      "1/1 - 0s - loss: 0.2317 - acc: 0.9160 - val_loss: 0.4579 - val_acc: 0.8320 - 154ms/epoch - 154ms/step\n",
      "Epoch 38/200\n",
      "1/1 - 0s - loss: 0.2292 - acc: 0.9140 - val_loss: 0.4554 - val_acc: 0.8360 - 159ms/epoch - 159ms/step\n",
      "Epoch 39/200\n",
      "1/1 - 0s - loss: 0.2448 - acc: 0.9320 - val_loss: 0.4536 - val_acc: 0.8380 - 167ms/epoch - 167ms/step\n",
      "Epoch 40/200\n",
      "1/1 - 0s - loss: 0.2384 - acc: 0.9180 - val_loss: 0.4511 - val_acc: 0.8420 - 160ms/epoch - 160ms/step\n",
      "Epoch 41/200\n",
      "1/1 - 0s - loss: 0.1919 - acc: 0.9320 - val_loss: 0.4471 - val_acc: 0.8440 - 161ms/epoch - 161ms/step\n",
      "Epoch 42/200\n",
      "1/1 - 0s - loss: 0.1921 - acc: 0.9400 - val_loss: 0.4426 - val_acc: 0.8340 - 159ms/epoch - 159ms/step\n",
      "Epoch 43/200\n",
      "1/1 - 0s - loss: 0.1795 - acc: 0.9400 - val_loss: 0.4460 - val_acc: 0.8300 - 157ms/epoch - 157ms/step\n",
      "Epoch 44/200\n",
      "1/1 - 0s - loss: 0.1848 - acc: 0.9480 - val_loss: 0.4509 - val_acc: 0.8300 - 157ms/epoch - 157ms/step\n",
      "Epoch 45/200\n",
      "1/1 - 0s - loss: 0.1856 - acc: 0.9360 - val_loss: 0.4577 - val_acc: 0.8320 - 158ms/epoch - 158ms/step\n",
      "Epoch 46/200\n",
      "1/1 - 0s - loss: 0.1995 - acc: 0.9240 - val_loss: 0.4584 - val_acc: 0.8280 - 158ms/epoch - 158ms/step\n",
      "Epoch 47/200\n",
      "1/1 - 0s - loss: 0.1568 - acc: 0.9520 - val_loss: 0.4606 - val_acc: 0.8300 - 164ms/epoch - 164ms/step\n",
      "Epoch 48/200\n",
      "1/1 - 0s - loss: 0.1645 - acc: 0.9480 - val_loss: 0.4660 - val_acc: 0.8320 - 161ms/epoch - 161ms/step\n",
      "Epoch 49/200\n",
      "1/1 - 0s - loss: 0.1582 - acc: 0.9480 - val_loss: 0.4690 - val_acc: 0.8320 - 162ms/epoch - 162ms/step\n",
      "Epoch 50/200\n",
      "1/1 - 0s - loss: 0.1602 - acc: 0.9460 - val_loss: 0.4710 - val_acc: 0.8380 - 158ms/epoch - 158ms/step\n",
      "Epoch 51/200\n",
      "1/1 - 0s - loss: 0.1549 - acc: 0.9380 - val_loss: 0.4728 - val_acc: 0.8340 - 163ms/epoch - 163ms/step\n",
      "Epoch 52/200\n",
      "1/1 - 0s - loss: 0.1600 - acc: 0.9540 - val_loss: 0.4772 - val_acc: 0.8300 - 172ms/epoch - 172ms/step\n",
      "Epoch 53/200\n",
      "1/1 - 0s - loss: 0.1511 - acc: 0.9420 - val_loss: 0.4826 - val_acc: 0.8320 - 159ms/epoch - 159ms/step\n",
      "Epoch 54/200\n",
      "1/1 - 0s - loss: 0.1526 - acc: 0.9500 - val_loss: 0.4843 - val_acc: 0.8320 - 158ms/epoch - 158ms/step\n",
      "Epoch 55/200\n",
      "1/1 - 0s - loss: 0.1365 - acc: 0.9600 - val_loss: 0.4890 - val_acc: 0.8360 - 160ms/epoch - 160ms/step\n",
      "Epoch 56/200\n",
      "1/1 - 0s - loss: 0.1426 - acc: 0.9500 - val_loss: 0.4935 - val_acc: 0.8420 - 153ms/epoch - 153ms/step\n",
      "Epoch 57/200\n",
      "1/1 - 0s - loss: 0.1496 - acc: 0.9500 - val_loss: 0.5001 - val_acc: 0.8360 - 157ms/epoch - 157ms/step\n",
      "Epoch 58/200\n",
      "1/1 - 0s - loss: 0.1312 - acc: 0.9520 - val_loss: 0.5055 - val_acc: 0.8360 - 165ms/epoch - 165ms/step\n",
      "Epoch 59/200\n",
      "1/1 - 0s - loss: 0.1371 - acc: 0.9600 - val_loss: 0.5108 - val_acc: 0.8320 - 159ms/epoch - 159ms/step\n",
      "Epoch 60/200\n",
      "1/1 - 0s - loss: 0.1376 - acc: 0.9520 - val_loss: 0.5123 - val_acc: 0.8260 - 157ms/epoch - 157ms/step\n",
      "Epoch 61/200\n",
      "1/1 - 0s - loss: 0.1316 - acc: 0.9620 - val_loss: 0.5154 - val_acc: 0.8280 - 160ms/epoch - 160ms/step\n",
      "Epoch 62/200\n",
      "1/1 - 0s - loss: 0.1167 - acc: 0.9620 - val_loss: 0.5189 - val_acc: 0.8340 - 159ms/epoch - 159ms/step\n",
      "Epoch 63/200\n",
      "1/1 - 0s - loss: 0.1212 - acc: 0.9640 - val_loss: 0.5204 - val_acc: 0.8360 - 157ms/epoch - 157ms/step\n",
      "Epoch 64/200\n",
      "1/1 - 0s - loss: 0.1317 - acc: 0.9580 - val_loss: 0.5236 - val_acc: 0.8280 - 159ms/epoch - 159ms/step\n",
      "Epoch 65/200\n",
      "1/1 - 0s - loss: 0.1248 - acc: 0.9580 - val_loss: 0.5301 - val_acc: 0.8300 - 158ms/epoch - 158ms/step\n",
      "Epoch 66/200\n",
      "1/1 - 0s - loss: 0.1106 - acc: 0.9620 - val_loss: 0.5381 - val_acc: 0.8320 - 160ms/epoch - 160ms/step\n",
      "Epoch 67/200\n",
      "1/1 - 0s - loss: 0.1318 - acc: 0.9480 - val_loss: 0.5479 - val_acc: 0.8360 - 159ms/epoch - 159ms/step\n",
      "Epoch 68/200\n",
      "1/1 - 0s - loss: 0.1024 - acc: 0.9560 - val_loss: 0.5526 - val_acc: 0.8400 - 161ms/epoch - 161ms/step\n",
      "Epoch 69/200\n",
      "1/1 - 0s - loss: 0.1223 - acc: 0.9340 - val_loss: 0.5539 - val_acc: 0.8360 - 159ms/epoch - 159ms/step\n",
      "Epoch 70/200\n",
      "1/1 - 0s - loss: 0.1109 - acc: 0.9580 - val_loss: 0.5503 - val_acc: 0.8340 - 159ms/epoch - 159ms/step\n",
      "Epoch 71/200\n",
      "1/1 - 0s - loss: 0.1136 - acc: 0.9580 - val_loss: 0.5492 - val_acc: 0.8360 - 157ms/epoch - 157ms/step\n",
      "Epoch 72/200\n",
      "1/1 - 0s - loss: 0.1122 - acc: 0.9600 - val_loss: 0.5497 - val_acc: 0.8240 - 157ms/epoch - 157ms/step\n"
     ]
    },
    {
     "name": "stdout",
     "output_type": "stream",
     "text": [
      "Epoch 73/200\n",
      "1/1 - 0s - loss: 0.1056 - acc: 0.9680 - val_loss: 0.5592 - val_acc: 0.8340 - 162ms/epoch - 162ms/step\n",
      "Epoch 74/200\n",
      "1/1 - 0s - loss: 0.1029 - acc: 0.9540 - val_loss: 0.5727 - val_acc: 0.8380 - 175ms/epoch - 175ms/step\n",
      "Epoch 75/200\n",
      "1/1 - 0s - loss: 0.0964 - acc: 0.9540 - val_loss: 0.5806 - val_acc: 0.8420 - 162ms/epoch - 162ms/step\n",
      "Epoch 76/200\n",
      "1/1 - 0s - loss: 0.0863 - acc: 0.9680 - val_loss: 0.5829 - val_acc: 0.8380 - 160ms/epoch - 160ms/step\n",
      "Epoch 77/200\n",
      "1/1 - 0s - loss: 0.0984 - acc: 0.9660 - val_loss: 0.5900 - val_acc: 0.8420 - 162ms/epoch - 162ms/step\n",
      "Epoch 78/200\n",
      "1/1 - 0s - loss: 0.0945 - acc: 0.9720 - val_loss: 0.5956 - val_acc: 0.8360 - 161ms/epoch - 161ms/step\n",
      "Epoch 79/200\n",
      "1/1 - 0s - loss: 0.1159 - acc: 0.9520 - val_loss: 0.5952 - val_acc: 0.8400 - 171ms/epoch - 171ms/step\n",
      "Epoch 80/200\n",
      "1/1 - 0s - loss: 0.0998 - acc: 0.9740 - val_loss: 0.5975 - val_acc: 0.8360 - 170ms/epoch - 170ms/step\n",
      "Epoch 81/200\n",
      "1/1 - 0s - loss: 0.0937 - acc: 0.9680 - val_loss: 0.6027 - val_acc: 0.8400 - 163ms/epoch - 163ms/step\n",
      "Epoch 82/200\n",
      "1/1 - 0s - loss: 0.0766 - acc: 0.9760 - val_loss: 0.6081 - val_acc: 0.8360 - 162ms/epoch - 162ms/step\n",
      "Epoch 83/200\n",
      "1/1 - 0s - loss: 0.0768 - acc: 0.9840 - val_loss: 0.6185 - val_acc: 0.8360 - 177ms/epoch - 177ms/step\n",
      "Epoch 84/200\n",
      "1/1 - 0s - loss: 0.1028 - acc: 0.9540 - val_loss: 0.6167 - val_acc: 0.8360 - 171ms/epoch - 171ms/step\n",
      "Epoch 85/200\n",
      "1/1 - 0s - loss: 0.0939 - acc: 0.9680 - val_loss: 0.6153 - val_acc: 0.8400 - 163ms/epoch - 163ms/step\n",
      "Epoch 86/200\n",
      "1/1 - 0s - loss: 0.1036 - acc: 0.9620 - val_loss: 0.6138 - val_acc: 0.8320 - 167ms/epoch - 167ms/step\n",
      "Epoch 87/200\n",
      "1/1 - 0s - loss: 0.0758 - acc: 0.9660 - val_loss: 0.6159 - val_acc: 0.8280 - 160ms/epoch - 160ms/step\n",
      "Epoch 88/200\n",
      "1/1 - 0s - loss: 0.0919 - acc: 0.9720 - val_loss: 0.6141 - val_acc: 0.8340 - 180ms/epoch - 180ms/step\n",
      "Epoch 89/200\n",
      "1/1 - 0s - loss: 0.0850 - acc: 0.9700 - val_loss: 0.6181 - val_acc: 0.8380 - 181ms/epoch - 181ms/step\n",
      "Epoch 90/200\n",
      "1/1 - 0s - loss: 0.0883 - acc: 0.9680 - val_loss: 0.6378 - val_acc: 0.8360 - 166ms/epoch - 166ms/step\n",
      "Epoch 91/200\n",
      "1/1 - 0s - loss: 0.0855 - acc: 0.9760 - val_loss: 0.6528 - val_acc: 0.8320 - 163ms/epoch - 163ms/step\n"
     ]
    }
   ],
   "source": [
    "history = model.fit(\n",
    "    train_gen,\n",
    "    epochs=200,\n",
    "    validation_data=val_gen,\n",
    "    verbose=2,\n",
    "    shuffle=False,  # this should be False, since shuffling data means shuffling the whole graph\n",
    "    callbacks=[es_callback],\n",
    ")"
   ]
  },
  {
   "cell_type": "code",
   "execution_count": 9,
   "id": "6bf6e8f2",
   "metadata": {
    "ExecuteTime": {
     "end_time": "2021-12-12T06:32:10.752689Z",
     "start_time": "2021-12-12T06:32:10.577546Z"
    }
   },
   "outputs": [
    {
     "data": {
      "image/png": "[encoded data removed]",
      "text/plain": [
       "<Figure size 504x576 with 2 Axes>"
      ]
     },
     "metadata": {
      "needs_background": "light"
     },
     "output_type": "display_data"
    }
   ],
   "source": [
    "sg.utils.plot_history(history)"
   ]
  },
  {
   "cell_type": "code",
   "execution_count": 10,
   "id": "114f42ce",
   "metadata": {
    "ExecuteTime": {
     "end_time": "2021-12-12T06:32:10.846222Z",
     "start_time": "2021-12-12T06:32:10.830513Z"
    }
   },
   "outputs": [],
   "source": [
    "test_gen = generator.flow(test_subjects.index, test_targets)"
   ]
  },
  {
   "cell_type": "code",
   "execution_count": 11,
   "id": "727bfa3f",
   "metadata": {
    "ExecuteTime": {
     "end_time": "2021-12-12T06:32:11.021426Z",
     "start_time": "2021-12-12T06:32:10.926339Z"
    }
   },
   "outputs": [
    {
     "name": "stdout",
     "output_type": "stream",
     "text": [
      "1/1 [==============================] - 0s 68ms/step - loss: 0.4548 - acc: 0.8392\n",
      "\n",
      "Test Set Metrics:\n",
      "\tloss: 0.4548\n",
      "\tacc: 0.8392\n"
     ]
    }
   ],
   "source": [
    "test_metrics = model.evaluate(test_gen)\n",
    "print(\"\\nTest Set Metrics:\")\n",
    "for name, val in zip(model.metrics_names, test_metrics):\n",
    "    print(\"\\t{}: {:0.4f}\".format(name, val))"
   ]
  },
  {
   "cell_type": "code",
   "execution_count": null,
   "id": "050384fd",
   "metadata": {},
   "outputs": [],
   "source": []
  }
 ],
 "metadata": {
  "kernelspec": {
   "display_name": "Python 3 (ipykernel)",
   "language": "python",
   "name": "python3"
  },
  "language_info": {
   "codemirror_mode": {
    "name": "ipython",
    "version": 3
   },
   "file_extension": ".py",
   "mimetype": "text/x-python",
   "name": "python",
   "nbconvert_exporter": "python",
   "pygments_lexer": "ipython3",
   "version": "3.8.12"
  },
  "varInspector": {
   "cols": {
    "lenName": 16,
    "lenType": 16,
    "lenVar": 40
   },
   "kernels_config": {
    "python": {
     "delete_cmd_postfix": "",
     "delete_cmd_prefix": "del ",
     "library": "var_list.py",
     "varRefreshCmd": "print(var_dic_list())"
    },
    "r": {
     "delete_cmd_postfix": ") ",
     "delete_cmd_prefix": "rm(",
     "library": "var_list.r",
     "varRefreshCmd": "cat(var_dic_list()) "
    }
   },
   "types_to_exclude": [
    "module",
    "function",
    "builtin_function_or_method",
    "instance",
    "_Feature"
   ],
   "window_display": false
  }
 },
 "nbformat": 4,
 "nbformat_minor": 5
}
